{
 "cells": [
  {
   "cell_type": "markdown",
   "metadata": {},
   "source": [
    "note: this notebook uses real data from a project work, source file is not shared here, not runable without it"
   ]
  },
  {
   "cell_type": "markdown",
   "metadata": {},
   "source": [
    "After full extration of the salary reports from multiple projects and factories now we will upload the final dataset to the MySQL Database"
   ]
  },
  {
   "cell_type": "code",
   "execution_count": 3,
   "metadata": {},
   "outputs": [],
   "source": [
    "# importing the libraries\n",
    "import pandas as pd\n",
    "import pymysql\n",
    "import datetime\n",
    "import numpy as np\n",
    "from tqdm import tqdm"
   ]
  },
  {
   "cell_type": "code",
   "execution_count": null,
   "metadata": {},
   "outputs": [],
   "source": []
  },
  {
   "cell_type": "markdown",
   "metadata": {},
   "source": [
    "#### importing the final dataset to upload, the dataset's format is pickle"
   ]
  },
  {
   "cell_type": "code",
   "execution_count": 4,
   "metadata": {},
   "outputs": [],
   "source": [
    "data = pd.read_pickle(r\"E:\\Google Drive Riyad IPA\\HomeOffice\\Merged Dataset Project\\MDS_Uploaded_Datasets\\CrossProject\\CrossProject_Salary_MDS_20201223_Final\")"
   ]
  },
  {
   "cell_type": "code",
   "execution_count": 5,
   "metadata": {},
   "outputs": [
    {
     "data": {
      "text/plain": [
       "Index(['id', 'name', 'designation', 'doj', 'grade', 'attendance', 'absent',\n",
       "       'total_holidays', 'total_leave', 'dayspaid', 'grosspay', 'basic',\n",
       "       'house_allowance', 'medical_allowance', 'conveyance', 'food_allowance',\n",
       "       'other_allowance', 'ot_hrs', 'ot_rate', 'ot_amount', 'arrear',\n",
       "       'absent_deduction', 'provident_fund', 'tax_deduction', 'stamp', 'hr',\n",
       "       'bf', 'advance', 'loan_deduction', 'total_deduction', 'netpay',\n",
       "       'active', 'department', 'month', 'unit', 'section', 'desig_type_calc',\n",
       "       'other_deduction', 'eot_hrs', 'eot_rate', 'eot_amount', 'doj_string',\n",
       "       'analyst', 'project', 'fact_code', 'report_name', 'other_leave',\n",
       "       'sick_leave', 'late_days', 'night_allowance',\n",
       "       'grocery_advance_deduction', 'path', 'file', 'sheet',\n",
       "       'attendance_bonus', 'line', 'floor', 'line_code', 'month_no', 'team',\n",
       "       'gender', 'earned_leave', 'weekend_holidays', 'other_holidays',\n",
       "       'factory_comments', 'night_day', 'extra_conveyance_days', 'account_no',\n",
       "       'mobile_allowance', 'extra_conveyance_allowance', 'employee_category',\n",
       "       'maternity_leave', 'casual_leave', 'lunch_out_days',\n",
       "       'lunch_out_deduction'],\n",
       "      dtype='object')"
      ]
     },
     "execution_count": 5,
     "metadata": {},
     "output_type": "execute_result"
    }
   ],
   "source": [
    "#looking into the columns\n",
    "data.columns"
   ]
  },
  {
   "cell_type": "code",
   "execution_count": 6,
   "metadata": {},
   "outputs": [
    {
     "data": {
      "text/plain": [
       "137130"
      ]
     },
     "execution_count": 6,
     "metadata": {},
     "output_type": "execute_result"
    }
   ],
   "source": [
    "#checking the length of the dataset\n",
    "len(data)"
   ]
  },
  {
   "cell_type": "code",
   "execution_count": null,
   "metadata": {},
   "outputs": [],
   "source": []
  },
  {
   "cell_type": "code",
   "execution_count": 2,
   "metadata": {},
   "outputs": [],
   "source": [
    "#factory 1502 is missing linecodes for the line H,let's fix it here\n",
    "indices = data[data.fact_code == 1502][pd.isnull(data[data.fact_code == 1502][\"line_code\"])][data[data.fact_code == 1502][pd.isnull(data[data.fact_code == 1502][\"line_code\"])][\"line\"] == \"H\"].index"
   ]
  },
  {
   "cell_type": "code",
   "execution_count": null,
   "metadata": {},
   "outputs": [],
   "source": [
    "data.loc[indices,\"line_code\"] = 1502020"
   ]
  },
  {
   "cell_type": "code",
   "execution_count": null,
   "metadata": {},
   "outputs": [],
   "source": [
    "data[data.fact_code == 1502][pd.isnull(data[data.fact_code == 1502][\"line_code\"])][\"line\"].unique()"
   ]
  },
  {
   "cell_type": "code",
   "execution_count": null,
   "metadata": {},
   "outputs": [],
   "source": []
  },
  {
   "cell_type": "code",
   "execution_count": null,
   "metadata": {},
   "outputs": [],
   "source": []
  },
  {
   "cell_type": "markdown",
   "metadata": {},
   "source": [
    "#### checking if all the columns in the dataset are actually present in the database"
   ]
  },
  {
   "cell_type": "code",
   "execution_count": 14,
   "metadata": {},
   "outputs": [],
   "source": [
    "old_data = pd.read_csv(r\"C:\\Users\\maahm\\Downloads\\salary.csv\")"
   ]
  },
  {
   "cell_type": "code",
   "execution_count": 15,
   "metadata": {},
   "outputs": [
    {
     "data": {
      "text/plain": [
       "Index(['slry_key', 'project', 'fact_code', 'month', 'month_no', 'department',\n",
       "       'floor', 'section', 'unit', 'line', 'line_code', 'id', 'name',\n",
       "       'designation', 'desig_type_calc', 'grade', 'doj', 'doj_string',\n",
       "       'employee_category', 'gender', 'dob', 'dob_string', 'basic',\n",
       "       'house_allowance', 'medical_allowance', 'conveyance', 'food_allowance',\n",
       "       'grosspay', 'attendance', 'casual_leave', 'sick_leave', 'earned_leave',\n",
       "       'paternity_leave', 'other_leave', 'weekend_holidays',\n",
       "       'festival_holidays', 'maternity_leave', 'total_leave', 'other_holidays',\n",
       "       'total_holidays', 'dayspaid', 'attendance_bonus', 'festival_allowance',\n",
       "       'conduct_bonus', 'production_bonus', 'increment', 'other_allowance',\n",
       "       'absent', 'absent_deduction', 'absent_halfday', 'advance',\n",
       "       'conduct_deduction', 'grocery_advance_deduction', 'late_days',\n",
       "       'late_join_deduction', 'provident_fund', 'without_pay_leave', 'stamp',\n",
       "       'other_deduction', 'total_deduction', 'ot_amount', 'ot_hrs', 'ot_rate',\n",
       "       'netpay', 'payment_method', 'religion', 'loan_deduction',\n",
       "       'night_allowance', 'tiffin_allowance', 'eot_hrs', 'eot_rate',\n",
       "       'eot_amount', 'factory_comments', 'night_day', 'extra_conveyance_days',\n",
       "       'arrear', 'bus_deduction', 'lunch_out_deduction', 'tax_deduction',\n",
       "       'account_no', 'year', 'file', 'path', 'sheet', 'report_name', 'analyst',\n",
       "       'resign_date', 'resign_date_string'],\n",
       "      dtype='object')"
      ]
     },
     "execution_count": 15,
     "metadata": {},
     "output_type": "execute_result"
    }
   ],
   "source": [
    "old_data.columns"
   ]
  },
  {
   "cell_type": "code",
   "execution_count": 16,
   "metadata": {},
   "outputs": [
    {
     "data": {
      "text/plain": [
       "5"
      ]
     },
     "execution_count": 16,
     "metadata": {},
     "output_type": "execute_result"
    }
   ],
   "source": [
    "len(old_data)"
   ]
  },
  {
   "cell_type": "code",
   "execution_count": 17,
   "metadata": {},
   "outputs": [
    {
     "data": {
      "text/plain": [
       "Index(['id', 'name', 'designation', 'doj', 'grade', 'attendance', 'absent',\n",
       "       'total_holidays', 'total_leave', 'dayspaid', 'grosspay', 'basic',\n",
       "       'house_allowance', 'medical_allowance', 'conveyance', 'food_allowance',\n",
       "       'other_allowance', 'ot_hrs', 'ot_rate', 'ot_amount', 'arrear',\n",
       "       'absent_deduction', 'provident_fund', 'tax_deduction', 'stamp', 'hr',\n",
       "       'bf', 'advance', 'loan_deduction', 'total_deduction', 'netpay',\n",
       "       'active', 'department', 'month', 'unit', 'section', 'desig_type_calc',\n",
       "       'other_deduction', 'eot_hrs', 'eot_rate', 'eot_amount', 'doj_string',\n",
       "       'analyst', 'project', 'fact_code', 'report_name', 'other_leave',\n",
       "       'sick_leave', 'late_days', 'night_allowance',\n",
       "       'grocery_advance_deduction', 'path', 'file', 'sheet',\n",
       "       'attendance_bonus', 'line', 'floor', 'line_code', 'month_no', 'team',\n",
       "       'gender', 'earned_leave', 'weekend_holidays', 'other_holidays',\n",
       "       'factory_comments', 'night_day', 'extra_conveyance_days', 'account_no',\n",
       "       'mobile_allowance', 'extra_conveyance_allowance', 'employee_category',\n",
       "       'maternity_leave', 'casual_leave', 'lunch_out_days',\n",
       "       'lunch_out_deduction'],\n",
       "      dtype='object')"
      ]
     },
     "execution_count": 17,
     "metadata": {},
     "output_type": "execute_result"
    }
   ],
   "source": [
    "data.columns"
   ]
  },
  {
   "cell_type": "code",
   "execution_count": 18,
   "metadata": {},
   "outputs": [
    {
     "data": {
      "text/plain": [
       "['hr',\n",
       " 'bf',\n",
       " 'active',\n",
       " 'team',\n",
       " 'mobile_allowance',\n",
       " 'extra_conveyance_allowance',\n",
       " 'lunch_out_days']"
      ]
     },
     "execution_count": 18,
     "metadata": {},
     "output_type": "execute_result"
    }
   ],
   "source": [
    "[item for item in data.columns if item not in old_data.columns]"
   ]
  },
  {
   "cell_type": "markdown",
   "metadata": {},
   "source": [
    "so these columns are missing, we have to fix some names in the source file and drop the rest"
   ]
  },
  {
   "cell_type": "code",
   "execution_count": 23,
   "metadata": {},
   "outputs": [],
   "source": [
    "data.drop(['hr',\n",
    " 'bf',\n",
    " 'active',\n",
    " 'team'],inplace=True,axis = 1)"
   ]
  },
  {
   "cell_type": "code",
   "execution_count": 24,
   "metadata": {},
   "outputs": [
    {
     "data": {
      "text/plain": [
       "(88, 71)"
      ]
     },
     "execution_count": 24,
     "metadata": {},
     "output_type": "execute_result"
    }
   ],
   "source": [
    "len(old_data.columns), len(data.columns)"
   ]
  },
  {
   "cell_type": "code",
   "execution_count": null,
   "metadata": {},
   "outputs": [],
   "source": []
  },
  {
   "cell_type": "code",
   "execution_count": 25,
   "metadata": {},
   "outputs": [
    {
     "data": {
      "text/html": [
       "<style  type=\"text/css\" >\n",
       "</style><table id=\"T_f7f64bda_5887_11eb_95ae_001a7dda7113\" ><thead>    <tr>        <th class=\"blank level0\" ></th>        <th class=\"col_heading level0 col0\" >id</th>        <th class=\"col_heading level0 col1\" >name</th>        <th class=\"col_heading level0 col2\" >designation</th>        <th class=\"col_heading level0 col3\" >doj</th>        <th class=\"col_heading level0 col4\" >grade</th>        <th class=\"col_heading level0 col5\" >attendance</th>        <th class=\"col_heading level0 col6\" >absent</th>        <th class=\"col_heading level0 col7\" >total_holidays</th>        <th class=\"col_heading level0 col8\" >total_leave</th>        <th class=\"col_heading level0 col9\" >dayspaid</th>        <th class=\"col_heading level0 col10\" >grosspay</th>        <th class=\"col_heading level0 col11\" >basic</th>        <th class=\"col_heading level0 col12\" >house_allowance</th>        <th class=\"col_heading level0 col13\" >medical_allowance</th>        <th class=\"col_heading level0 col14\" >conveyance</th>        <th class=\"col_heading level0 col15\" >food_allowance</th>        <th class=\"col_heading level0 col16\" >other_allowance</th>        <th class=\"col_heading level0 col17\" >ot_hrs</th>        <th class=\"col_heading level0 col18\" >ot_rate</th>        <th class=\"col_heading level0 col19\" >ot_amount</th>        <th class=\"col_heading level0 col20\" >arrear</th>        <th class=\"col_heading level0 col21\" >absent_deduction</th>        <th class=\"col_heading level0 col22\" >provident_fund</th>        <th class=\"col_heading level0 col23\" >tax_deduction</th>        <th class=\"col_heading level0 col24\" >stamp</th>        <th class=\"col_heading level0 col25\" >advance</th>        <th class=\"col_heading level0 col26\" >loan_deduction</th>        <th class=\"col_heading level0 col27\" >total_deduction</th>        <th class=\"col_heading level0 col28\" >netpay</th>        <th class=\"col_heading level0 col29\" >department</th>        <th class=\"col_heading level0 col30\" >month</th>        <th class=\"col_heading level0 col31\" >unit</th>        <th class=\"col_heading level0 col32\" >section</th>        <th class=\"col_heading level0 col33\" >desig_type_calc</th>        <th class=\"col_heading level0 col34\" >other_deduction</th>        <th class=\"col_heading level0 col35\" >eot_hrs</th>        <th class=\"col_heading level0 col36\" >eot_rate</th>        <th class=\"col_heading level0 col37\" >eot_amount</th>        <th class=\"col_heading level0 col38\" >doj_string</th>        <th class=\"col_heading level0 col39\" >analyst</th>        <th class=\"col_heading level0 col40\" >project</th>        <th class=\"col_heading level0 col41\" >fact_code</th>        <th class=\"col_heading level0 col42\" >report_name</th>        <th class=\"col_heading level0 col43\" >other_leave</th>        <th class=\"col_heading level0 col44\" >sick_leave</th>        <th class=\"col_heading level0 col45\" >late_days</th>        <th class=\"col_heading level0 col46\" >night_allowance</th>        <th class=\"col_heading level0 col47\" >grocery_advance_deduction</th>        <th class=\"col_heading level0 col48\" >path</th>        <th class=\"col_heading level0 col49\" >file</th>        <th class=\"col_heading level0 col50\" >sheet</th>        <th class=\"col_heading level0 col51\" >attendance_bonus</th>        <th class=\"col_heading level0 col52\" >line</th>        <th class=\"col_heading level0 col53\" >floor</th>        <th class=\"col_heading level0 col54\" >line_code</th>        <th class=\"col_heading level0 col55\" >month_no</th>        <th class=\"col_heading level0 col56\" >gender</th>        <th class=\"col_heading level0 col57\" >earned_leave</th>        <th class=\"col_heading level0 col58\" >weekend_holidays</th>        <th class=\"col_heading level0 col59\" >other_holidays</th>        <th class=\"col_heading level0 col60\" >factory_comments</th>        <th class=\"col_heading level0 col61\" >night_day</th>        <th class=\"col_heading level0 col62\" >extra_conveyance_days</th>        <th class=\"col_heading level0 col63\" >account_no</th>        <th class=\"col_heading level0 col64\" >mobile_allowance</th>        <th class=\"col_heading level0 col65\" >extra_conveyance_allowance</th>        <th class=\"col_heading level0 col66\" >employee_category</th>        <th class=\"col_heading level0 col67\" >maternity_leave</th>        <th class=\"col_heading level0 col68\" >casual_leave</th>        <th class=\"col_heading level0 col69\" >lunch_out_days</th>        <th class=\"col_heading level0 col70\" >lunch_out_deduction</th>    </tr></thead><tbody>\n",
       "                <tr>\n",
       "                        <th id=\"T_f7f64bda_5887_11eb_95ae_001a7dda7113level0_row0\" class=\"row_heading level0 row0\" >0</th>\n",
       "                        <td id=\"T_f7f64bda_5887_11eb_95ae_001a7dda7113row0_col0\" class=\"data row0 col0\" >11</td>\n",
       "                        <td id=\"T_f7f64bda_5887_11eb_95ae_001a7dda7113row0_col1\" class=\"data row0 col1\" >abdul awal</td>\n",
       "                        <td id=\"T_f7f64bda_5887_11eb_95ae_001a7dda7113row0_col2\" class=\"data row0 col2\" >sr. supervisor</td>\n",
       "                        <td id=\"T_f7f64bda_5887_11eb_95ae_001a7dda7113row0_col3\" class=\"data row0 col3\" >2006-06-06</td>\n",
       "                        <td id=\"T_f7f64bda_5887_11eb_95ae_001a7dda7113row0_col4\" class=\"data row0 col4\" >1.000000</td>\n",
       "                        <td id=\"T_f7f64bda_5887_11eb_95ae_001a7dda7113row0_col5\" class=\"data row0 col5\" >20.000000</td>\n",
       "                        <td id=\"T_f7f64bda_5887_11eb_95ae_001a7dda7113row0_col6\" class=\"data row0 col6\" >0.000000</td>\n",
       "                        <td id=\"T_f7f64bda_5887_11eb_95ae_001a7dda7113row0_col7\" class=\"data row0 col7\" >8.000000</td>\n",
       "                        <td id=\"T_f7f64bda_5887_11eb_95ae_001a7dda7113row0_col8\" class=\"data row0 col8\" >3.000000</td>\n",
       "                        <td id=\"T_f7f64bda_5887_11eb_95ae_001a7dda7113row0_col9\" class=\"data row0 col9\" >31.000000</td>\n",
       "                        <td id=\"T_f7f64bda_5887_11eb_95ae_001a7dda7113row0_col10\" class=\"data row0 col10\" >25696.000000</td>\n",
       "                        <td id=\"T_f7f64bda_5887_11eb_95ae_001a7dda7113row0_col11\" class=\"data row0 col11\" >15897.000000</td>\n",
       "                        <td id=\"T_f7f64bda_5887_11eb_95ae_001a7dda7113row0_col12\" class=\"data row0 col12\" >7949.000000</td>\n",
       "                        <td id=\"T_f7f64bda_5887_11eb_95ae_001a7dda7113row0_col13\" class=\"data row0 col13\" >600.000000</td>\n",
       "                        <td id=\"T_f7f64bda_5887_11eb_95ae_001a7dda7113row0_col14\" class=\"data row0 col14\" >350.000000</td>\n",
       "                        <td id=\"T_f7f64bda_5887_11eb_95ae_001a7dda7113row0_col15\" class=\"data row0 col15\" >900.000000</td>\n",
       "                        <td id=\"T_f7f64bda_5887_11eb_95ae_001a7dda7113row0_col16\" class=\"data row0 col16\" >0.000000</td>\n",
       "                        <td id=\"T_f7f64bda_5887_11eb_95ae_001a7dda7113row0_col17\" class=\"data row0 col17\" >0.000000</td>\n",
       "                        <td id=\"T_f7f64bda_5887_11eb_95ae_001a7dda7113row0_col18\" class=\"data row0 col18\" >152.860000</td>\n",
       "                        <td id=\"T_f7f64bda_5887_11eb_95ae_001a7dda7113row0_col19\" class=\"data row0 col19\" >0.000000</td>\n",
       "                        <td id=\"T_f7f64bda_5887_11eb_95ae_001a7dda7113row0_col20\" class=\"data row0 col20\" >0.000000</td>\n",
       "                        <td id=\"T_f7f64bda_5887_11eb_95ae_001a7dda7113row0_col21\" class=\"data row0 col21\" >0.000000</td>\n",
       "                        <td id=\"T_f7f64bda_5887_11eb_95ae_001a7dda7113row0_col22\" class=\"data row0 col22\" >795.000000</td>\n",
       "                        <td id=\"T_f7f64bda_5887_11eb_95ae_001a7dda7113row0_col23\" class=\"data row0 col23\" >0.000000</td>\n",
       "                        <td id=\"T_f7f64bda_5887_11eb_95ae_001a7dda7113row0_col24\" class=\"data row0 col24\" >0.000000</td>\n",
       "                        <td id=\"T_f7f64bda_5887_11eb_95ae_001a7dda7113row0_col25\" class=\"data row0 col25\" >527.000000</td>\n",
       "                        <td id=\"T_f7f64bda_5887_11eb_95ae_001a7dda7113row0_col26\" class=\"data row0 col26\" >0.000000</td>\n",
       "                        <td id=\"T_f7f64bda_5887_11eb_95ae_001a7dda7113row0_col27\" class=\"data row0 col27\" >1327.000000</td>\n",
       "                        <td id=\"T_f7f64bda_5887_11eb_95ae_001a7dda7113row0_col28\" class=\"data row0 col28\" >24369.000000</td>\n",
       "                        <td id=\"T_f7f64bda_5887_11eb_95ae_001a7dda7113row0_col29\" class=\"data row0 col29\" >administration</td>\n",
       "                        <td id=\"T_f7f64bda_5887_11eb_95ae_001a7dda7113row0_col30\" class=\"data row0 col30\" >august_2020</td>\n",
       "                        <td id=\"T_f7f64bda_5887_11eb_95ae_001a7dda7113row0_col31\" class=\"data row0 col31\" >nan</td>\n",
       "                        <td id=\"T_f7f64bda_5887_11eb_95ae_001a7dda7113row0_col32\" class=\"data row0 col32\" >admin</td>\n",
       "                        <td id=\"T_f7f64bda_5887_11eb_95ae_001a7dda7113row0_col33\" class=\"data row0 col33\" >nan</td>\n",
       "                        <td id=\"T_f7f64bda_5887_11eb_95ae_001a7dda7113row0_col34\" class=\"data row0 col34\" >5.000000</td>\n",
       "                        <td id=\"T_f7f64bda_5887_11eb_95ae_001a7dda7113row0_col35\" class=\"data row0 col35\" >0.000000</td>\n",
       "                        <td id=\"T_f7f64bda_5887_11eb_95ae_001a7dda7113row0_col36\" class=\"data row0 col36\" >0.000000</td>\n",
       "                        <td id=\"T_f7f64bda_5887_11eb_95ae_001a7dda7113row0_col37\" class=\"data row0 col37\" >0.000000</td>\n",
       "                        <td id=\"T_f7f64bda_5887_11eb_95ae_001a7dda7113row0_col38\" class=\"data row0 col38\" >06_June_2006</td>\n",
       "                        <td id=\"T_f7f64bda_5887_11eb_95ae_001a7dda7113row0_col39\" class=\"data row0 col39\" >NFH</td>\n",
       "                        <td id=\"T_f7f64bda_5887_11eb_95ae_001a7dda7113row0_col40\" class=\"data row0 col40\" >CrossProject</td>\n",
       "                        <td id=\"T_f7f64bda_5887_11eb_95ae_001a7dda7113row0_col41\" class=\"data row0 col41\" >1304</td>\n",
       "                        <td id=\"T_f7f64bda_5887_11eb_95ae_001a7dda7113row0_col42\" class=\"data row0 col42\" >Salary Report</td>\n",
       "                        <td id=\"T_f7f64bda_5887_11eb_95ae_001a7dda7113row0_col43\" class=\"data row0 col43\" >nan</td>\n",
       "                        <td id=\"T_f7f64bda_5887_11eb_95ae_001a7dda7113row0_col44\" class=\"data row0 col44\" >nan</td>\n",
       "                        <td id=\"T_f7f64bda_5887_11eb_95ae_001a7dda7113row0_col45\" class=\"data row0 col45\" >nan</td>\n",
       "                        <td id=\"T_f7f64bda_5887_11eb_95ae_001a7dda7113row0_col46\" class=\"data row0 col46\" >nan</td>\n",
       "                        <td id=\"T_f7f64bda_5887_11eb_95ae_001a7dda7113row0_col47\" class=\"data row0 col47\" >nan</td>\n",
       "                        <td id=\"T_f7f64bda_5887_11eb_95ae_001a7dda7113row0_col48\" class=\"data row0 col48\" >nan</td>\n",
       "                        <td id=\"T_f7f64bda_5887_11eb_95ae_001a7dda7113row0_col49\" class=\"data row0 col49\" >nan</td>\n",
       "                        <td id=\"T_f7f64bda_5887_11eb_95ae_001a7dda7113row0_col50\" class=\"data row0 col50\" >nan</td>\n",
       "                        <td id=\"T_f7f64bda_5887_11eb_95ae_001a7dda7113row0_col51\" class=\"data row0 col51\" >nan</td>\n",
       "                        <td id=\"T_f7f64bda_5887_11eb_95ae_001a7dda7113row0_col52\" class=\"data row0 col52\" >nan</td>\n",
       "                        <td id=\"T_f7f64bda_5887_11eb_95ae_001a7dda7113row0_col53\" class=\"data row0 col53\" >nan</td>\n",
       "                        <td id=\"T_f7f64bda_5887_11eb_95ae_001a7dda7113row0_col54\" class=\"data row0 col54\" >nan</td>\n",
       "                        <td id=\"T_f7f64bda_5887_11eb_95ae_001a7dda7113row0_col55\" class=\"data row0 col55\" >2020_08</td>\n",
       "                        <td id=\"T_f7f64bda_5887_11eb_95ae_001a7dda7113row0_col56\" class=\"data row0 col56\" >nan</td>\n",
       "                        <td id=\"T_f7f64bda_5887_11eb_95ae_001a7dda7113row0_col57\" class=\"data row0 col57\" >nan</td>\n",
       "                        <td id=\"T_f7f64bda_5887_11eb_95ae_001a7dda7113row0_col58\" class=\"data row0 col58\" >nan</td>\n",
       "                        <td id=\"T_f7f64bda_5887_11eb_95ae_001a7dda7113row0_col59\" class=\"data row0 col59\" >nan</td>\n",
       "                        <td id=\"T_f7f64bda_5887_11eb_95ae_001a7dda7113row0_col60\" class=\"data row0 col60\" >nan</td>\n",
       "                        <td id=\"T_f7f64bda_5887_11eb_95ae_001a7dda7113row0_col61\" class=\"data row0 col61\" >nan</td>\n",
       "                        <td id=\"T_f7f64bda_5887_11eb_95ae_001a7dda7113row0_col62\" class=\"data row0 col62\" >nan</td>\n",
       "                        <td id=\"T_f7f64bda_5887_11eb_95ae_001a7dda7113row0_col63\" class=\"data row0 col63\" >nan</td>\n",
       "                        <td id=\"T_f7f64bda_5887_11eb_95ae_001a7dda7113row0_col64\" class=\"data row0 col64\" >nan</td>\n",
       "                        <td id=\"T_f7f64bda_5887_11eb_95ae_001a7dda7113row0_col65\" class=\"data row0 col65\" >nan</td>\n",
       "                        <td id=\"T_f7f64bda_5887_11eb_95ae_001a7dda7113row0_col66\" class=\"data row0 col66\" >nan</td>\n",
       "                        <td id=\"T_f7f64bda_5887_11eb_95ae_001a7dda7113row0_col67\" class=\"data row0 col67\" >nan</td>\n",
       "                        <td id=\"T_f7f64bda_5887_11eb_95ae_001a7dda7113row0_col68\" class=\"data row0 col68\" >nan</td>\n",
       "                        <td id=\"T_f7f64bda_5887_11eb_95ae_001a7dda7113row0_col69\" class=\"data row0 col69\" >nan</td>\n",
       "                        <td id=\"T_f7f64bda_5887_11eb_95ae_001a7dda7113row0_col70\" class=\"data row0 col70\" >nan</td>\n",
       "            </tr>\n",
       "            <tr>\n",
       "                        <th id=\"T_f7f64bda_5887_11eb_95ae_001a7dda7113level0_row1\" class=\"row_heading level0 row1\" >1</th>\n",
       "                        <td id=\"T_f7f64bda_5887_11eb_95ae_001a7dda7113row1_col0\" class=\"data row1 col0\" >43</td>\n",
       "                        <td id=\"T_f7f64bda_5887_11eb_95ae_001a7dda7113row1_col1\" class=\"data row1 col1\" >abu musa</td>\n",
       "                        <td id=\"T_f7f64bda_5887_11eb_95ae_001a7dda7113row1_col2\" class=\"data row1 col2\" >sr. cook</td>\n",
       "                        <td id=\"T_f7f64bda_5887_11eb_95ae_001a7dda7113row1_col3\" class=\"data row1 col3\" >2006-08-16</td>\n",
       "                        <td id=\"T_f7f64bda_5887_11eb_95ae_001a7dda7113row1_col4\" class=\"data row1 col4\" >3.000000</td>\n",
       "                        <td id=\"T_f7f64bda_5887_11eb_95ae_001a7dda7113row1_col5\" class=\"data row1 col5\" >23.000000</td>\n",
       "                        <td id=\"T_f7f64bda_5887_11eb_95ae_001a7dda7113row1_col6\" class=\"data row1 col6\" >0.000000</td>\n",
       "                        <td id=\"T_f7f64bda_5887_11eb_95ae_001a7dda7113row1_col7\" class=\"data row1 col7\" >8.000000</td>\n",
       "                        <td id=\"T_f7f64bda_5887_11eb_95ae_001a7dda7113row1_col8\" class=\"data row1 col8\" >0.000000</td>\n",
       "                        <td id=\"T_f7f64bda_5887_11eb_95ae_001a7dda7113row1_col9\" class=\"data row1 col9\" >31.000000</td>\n",
       "                        <td id=\"T_f7f64bda_5887_11eb_95ae_001a7dda7113row1_col10\" class=\"data row1 col10\" >25303.000000</td>\n",
       "                        <td id=\"T_f7f64bda_5887_11eb_95ae_001a7dda7113row1_col11\" class=\"data row1 col11\" >15635.000000</td>\n",
       "                        <td id=\"T_f7f64bda_5887_11eb_95ae_001a7dda7113row1_col12\" class=\"data row1 col12\" >7818.000000</td>\n",
       "                        <td id=\"T_f7f64bda_5887_11eb_95ae_001a7dda7113row1_col13\" class=\"data row1 col13\" >600.000000</td>\n",
       "                        <td id=\"T_f7f64bda_5887_11eb_95ae_001a7dda7113row1_col14\" class=\"data row1 col14\" >350.000000</td>\n",
       "                        <td id=\"T_f7f64bda_5887_11eb_95ae_001a7dda7113row1_col15\" class=\"data row1 col15\" >900.000000</td>\n",
       "                        <td id=\"T_f7f64bda_5887_11eb_95ae_001a7dda7113row1_col16\" class=\"data row1 col16\" >0.000000</td>\n",
       "                        <td id=\"T_f7f64bda_5887_11eb_95ae_001a7dda7113row1_col17\" class=\"data row1 col17\" >0.000000</td>\n",
       "                        <td id=\"T_f7f64bda_5887_11eb_95ae_001a7dda7113row1_col18\" class=\"data row1 col18\" >150.340000</td>\n",
       "                        <td id=\"T_f7f64bda_5887_11eb_95ae_001a7dda7113row1_col19\" class=\"data row1 col19\" >0.000000</td>\n",
       "                        <td id=\"T_f7f64bda_5887_11eb_95ae_001a7dda7113row1_col20\" class=\"data row1 col20\" >0.000000</td>\n",
       "                        <td id=\"T_f7f64bda_5887_11eb_95ae_001a7dda7113row1_col21\" class=\"data row1 col21\" >0.000000</td>\n",
       "                        <td id=\"T_f7f64bda_5887_11eb_95ae_001a7dda7113row1_col22\" class=\"data row1 col22\" >782.000000</td>\n",
       "                        <td id=\"T_f7f64bda_5887_11eb_95ae_001a7dda7113row1_col23\" class=\"data row1 col23\" >0.000000</td>\n",
       "                        <td id=\"T_f7f64bda_5887_11eb_95ae_001a7dda7113row1_col24\" class=\"data row1 col24\" >0.000000</td>\n",
       "                        <td id=\"T_f7f64bda_5887_11eb_95ae_001a7dda7113row1_col25\" class=\"data row1 col25\" >0.000000</td>\n",
       "                        <td id=\"T_f7f64bda_5887_11eb_95ae_001a7dda7113row1_col26\" class=\"data row1 col26\" >0.000000</td>\n",
       "                        <td id=\"T_f7f64bda_5887_11eb_95ae_001a7dda7113row1_col27\" class=\"data row1 col27\" >787.000000</td>\n",
       "                        <td id=\"T_f7f64bda_5887_11eb_95ae_001a7dda7113row1_col28\" class=\"data row1 col28\" >24516.000000</td>\n",
       "                        <td id=\"T_f7f64bda_5887_11eb_95ae_001a7dda7113row1_col29\" class=\"data row1 col29\" >administration</td>\n",
       "                        <td id=\"T_f7f64bda_5887_11eb_95ae_001a7dda7113row1_col30\" class=\"data row1 col30\" >august_2020</td>\n",
       "                        <td id=\"T_f7f64bda_5887_11eb_95ae_001a7dda7113row1_col31\" class=\"data row1 col31\" >nan</td>\n",
       "                        <td id=\"T_f7f64bda_5887_11eb_95ae_001a7dda7113row1_col32\" class=\"data row1 col32\" >admin</td>\n",
       "                        <td id=\"T_f7f64bda_5887_11eb_95ae_001a7dda7113row1_col33\" class=\"data row1 col33\" >nan</td>\n",
       "                        <td id=\"T_f7f64bda_5887_11eb_95ae_001a7dda7113row1_col34\" class=\"data row1 col34\" >5.000000</td>\n",
       "                        <td id=\"T_f7f64bda_5887_11eb_95ae_001a7dda7113row1_col35\" class=\"data row1 col35\" >0.000000</td>\n",
       "                        <td id=\"T_f7f64bda_5887_11eb_95ae_001a7dda7113row1_col36\" class=\"data row1 col36\" >0.000000</td>\n",
       "                        <td id=\"T_f7f64bda_5887_11eb_95ae_001a7dda7113row1_col37\" class=\"data row1 col37\" >0.000000</td>\n",
       "                        <td id=\"T_f7f64bda_5887_11eb_95ae_001a7dda7113row1_col38\" class=\"data row1 col38\" >16_August_2006</td>\n",
       "                        <td id=\"T_f7f64bda_5887_11eb_95ae_001a7dda7113row1_col39\" class=\"data row1 col39\" >NFH</td>\n",
       "                        <td id=\"T_f7f64bda_5887_11eb_95ae_001a7dda7113row1_col40\" class=\"data row1 col40\" >CrossProject</td>\n",
       "                        <td id=\"T_f7f64bda_5887_11eb_95ae_001a7dda7113row1_col41\" class=\"data row1 col41\" >1304</td>\n",
       "                        <td id=\"T_f7f64bda_5887_11eb_95ae_001a7dda7113row1_col42\" class=\"data row1 col42\" >Salary Report</td>\n",
       "                        <td id=\"T_f7f64bda_5887_11eb_95ae_001a7dda7113row1_col43\" class=\"data row1 col43\" >nan</td>\n",
       "                        <td id=\"T_f7f64bda_5887_11eb_95ae_001a7dda7113row1_col44\" class=\"data row1 col44\" >nan</td>\n",
       "                        <td id=\"T_f7f64bda_5887_11eb_95ae_001a7dda7113row1_col45\" class=\"data row1 col45\" >nan</td>\n",
       "                        <td id=\"T_f7f64bda_5887_11eb_95ae_001a7dda7113row1_col46\" class=\"data row1 col46\" >nan</td>\n",
       "                        <td id=\"T_f7f64bda_5887_11eb_95ae_001a7dda7113row1_col47\" class=\"data row1 col47\" >nan</td>\n",
       "                        <td id=\"T_f7f64bda_5887_11eb_95ae_001a7dda7113row1_col48\" class=\"data row1 col48\" >nan</td>\n",
       "                        <td id=\"T_f7f64bda_5887_11eb_95ae_001a7dda7113row1_col49\" class=\"data row1 col49\" >nan</td>\n",
       "                        <td id=\"T_f7f64bda_5887_11eb_95ae_001a7dda7113row1_col50\" class=\"data row1 col50\" >nan</td>\n",
       "                        <td id=\"T_f7f64bda_5887_11eb_95ae_001a7dda7113row1_col51\" class=\"data row1 col51\" >nan</td>\n",
       "                        <td id=\"T_f7f64bda_5887_11eb_95ae_001a7dda7113row1_col52\" class=\"data row1 col52\" >nan</td>\n",
       "                        <td id=\"T_f7f64bda_5887_11eb_95ae_001a7dda7113row1_col53\" class=\"data row1 col53\" >nan</td>\n",
       "                        <td id=\"T_f7f64bda_5887_11eb_95ae_001a7dda7113row1_col54\" class=\"data row1 col54\" >nan</td>\n",
       "                        <td id=\"T_f7f64bda_5887_11eb_95ae_001a7dda7113row1_col55\" class=\"data row1 col55\" >2020_08</td>\n",
       "                        <td id=\"T_f7f64bda_5887_11eb_95ae_001a7dda7113row1_col56\" class=\"data row1 col56\" >nan</td>\n",
       "                        <td id=\"T_f7f64bda_5887_11eb_95ae_001a7dda7113row1_col57\" class=\"data row1 col57\" >nan</td>\n",
       "                        <td id=\"T_f7f64bda_5887_11eb_95ae_001a7dda7113row1_col58\" class=\"data row1 col58\" >nan</td>\n",
       "                        <td id=\"T_f7f64bda_5887_11eb_95ae_001a7dda7113row1_col59\" class=\"data row1 col59\" >nan</td>\n",
       "                        <td id=\"T_f7f64bda_5887_11eb_95ae_001a7dda7113row1_col60\" class=\"data row1 col60\" >nan</td>\n",
       "                        <td id=\"T_f7f64bda_5887_11eb_95ae_001a7dda7113row1_col61\" class=\"data row1 col61\" >nan</td>\n",
       "                        <td id=\"T_f7f64bda_5887_11eb_95ae_001a7dda7113row1_col62\" class=\"data row1 col62\" >nan</td>\n",
       "                        <td id=\"T_f7f64bda_5887_11eb_95ae_001a7dda7113row1_col63\" class=\"data row1 col63\" >nan</td>\n",
       "                        <td id=\"T_f7f64bda_5887_11eb_95ae_001a7dda7113row1_col64\" class=\"data row1 col64\" >nan</td>\n",
       "                        <td id=\"T_f7f64bda_5887_11eb_95ae_001a7dda7113row1_col65\" class=\"data row1 col65\" >nan</td>\n",
       "                        <td id=\"T_f7f64bda_5887_11eb_95ae_001a7dda7113row1_col66\" class=\"data row1 col66\" >nan</td>\n",
       "                        <td id=\"T_f7f64bda_5887_11eb_95ae_001a7dda7113row1_col67\" class=\"data row1 col67\" >nan</td>\n",
       "                        <td id=\"T_f7f64bda_5887_11eb_95ae_001a7dda7113row1_col68\" class=\"data row1 col68\" >nan</td>\n",
       "                        <td id=\"T_f7f64bda_5887_11eb_95ae_001a7dda7113row1_col69\" class=\"data row1 col69\" >nan</td>\n",
       "                        <td id=\"T_f7f64bda_5887_11eb_95ae_001a7dda7113row1_col70\" class=\"data row1 col70\" >nan</td>\n",
       "            </tr>\n",
       "            <tr>\n",
       "                        <th id=\"T_f7f64bda_5887_11eb_95ae_001a7dda7113level0_row2\" class=\"row_heading level0 row2\" >2</th>\n",
       "                        <td id=\"T_f7f64bda_5887_11eb_95ae_001a7dda7113row2_col0\" class=\"data row2 col0\" >3064</td>\n",
       "                        <td id=\"T_f7f64bda_5887_11eb_95ae_001a7dda7113row2_col1\" class=\"data row2 col1\" >md khalilur rahman</td>\n",
       "                        <td id=\"T_f7f64bda_5887_11eb_95ae_001a7dda7113row2_col2\" class=\"data row2 col2\" >gardener</td>\n",
       "                        <td id=\"T_f7f64bda_5887_11eb_95ae_001a7dda7113row2_col3\" class=\"data row2 col3\" >2007-08-11</td>\n",
       "                        <td id=\"T_f7f64bda_5887_11eb_95ae_001a7dda7113row2_col4\" class=\"data row2 col4\" >4.000000</td>\n",
       "                        <td id=\"T_f7f64bda_5887_11eb_95ae_001a7dda7113row2_col5\" class=\"data row2 col5\" >15.000000</td>\n",
       "                        <td id=\"T_f7f64bda_5887_11eb_95ae_001a7dda7113row2_col6\" class=\"data row2 col6\" >8.000000</td>\n",
       "                        <td id=\"T_f7f64bda_5887_11eb_95ae_001a7dda7113row2_col7\" class=\"data row2 col7\" >8.000000</td>\n",
       "                        <td id=\"T_f7f64bda_5887_11eb_95ae_001a7dda7113row2_col8\" class=\"data row2 col8\" >0.000000</td>\n",
       "                        <td id=\"T_f7f64bda_5887_11eb_95ae_001a7dda7113row2_col9\" class=\"data row2 col9\" >23.000000</td>\n",
       "                        <td id=\"T_f7f64bda_5887_11eb_95ae_001a7dda7113row2_col10\" class=\"data row2 col10\" >24100.000000</td>\n",
       "                        <td id=\"T_f7f64bda_5887_11eb_95ae_001a7dda7113row2_col11\" class=\"data row2 col11\" >14833.000000</td>\n",
       "                        <td id=\"T_f7f64bda_5887_11eb_95ae_001a7dda7113row2_col12\" class=\"data row2 col12\" >7417.000000</td>\n",
       "                        <td id=\"T_f7f64bda_5887_11eb_95ae_001a7dda7113row2_col13\" class=\"data row2 col13\" >600.000000</td>\n",
       "                        <td id=\"T_f7f64bda_5887_11eb_95ae_001a7dda7113row2_col14\" class=\"data row2 col14\" >350.000000</td>\n",
       "                        <td id=\"T_f7f64bda_5887_11eb_95ae_001a7dda7113row2_col15\" class=\"data row2 col15\" >900.000000</td>\n",
       "                        <td id=\"T_f7f64bda_5887_11eb_95ae_001a7dda7113row2_col16\" class=\"data row2 col16\" >0.000000</td>\n",
       "                        <td id=\"T_f7f64bda_5887_11eb_95ae_001a7dda7113row2_col17\" class=\"data row2 col17\" >0.000000</td>\n",
       "                        <td id=\"T_f7f64bda_5887_11eb_95ae_001a7dda7113row2_col18\" class=\"data row2 col18\" >142.630000</td>\n",
       "                        <td id=\"T_f7f64bda_5887_11eb_95ae_001a7dda7113row2_col19\" class=\"data row2 col19\" >0.000000</td>\n",
       "                        <td id=\"T_f7f64bda_5887_11eb_95ae_001a7dda7113row2_col20\" class=\"data row2 col20\" >0.000000</td>\n",
       "                        <td id=\"T_f7f64bda_5887_11eb_95ae_001a7dda7113row2_col21\" class=\"data row2 col21\" >3955.000000</td>\n",
       "                        <td id=\"T_f7f64bda_5887_11eb_95ae_001a7dda7113row2_col22\" class=\"data row2 col22\" >742.000000</td>\n",
       "                        <td id=\"T_f7f64bda_5887_11eb_95ae_001a7dda7113row2_col23\" class=\"data row2 col23\" >0.000000</td>\n",
       "                        <td id=\"T_f7f64bda_5887_11eb_95ae_001a7dda7113row2_col24\" class=\"data row2 col24\" >0.000000</td>\n",
       "                        <td id=\"T_f7f64bda_5887_11eb_95ae_001a7dda7113row2_col25\" class=\"data row2 col25\" >0.000000</td>\n",
       "                        <td id=\"T_f7f64bda_5887_11eb_95ae_001a7dda7113row2_col26\" class=\"data row2 col26\" >0.000000</td>\n",
       "                        <td id=\"T_f7f64bda_5887_11eb_95ae_001a7dda7113row2_col27\" class=\"data row2 col27\" >747.000000</td>\n",
       "                        <td id=\"T_f7f64bda_5887_11eb_95ae_001a7dda7113row2_col28\" class=\"data row2 col28\" >19398.000000</td>\n",
       "                        <td id=\"T_f7f64bda_5887_11eb_95ae_001a7dda7113row2_col29\" class=\"data row2 col29\" >administration</td>\n",
       "                        <td id=\"T_f7f64bda_5887_11eb_95ae_001a7dda7113row2_col30\" class=\"data row2 col30\" >august_2020</td>\n",
       "                        <td id=\"T_f7f64bda_5887_11eb_95ae_001a7dda7113row2_col31\" class=\"data row2 col31\" >nan</td>\n",
       "                        <td id=\"T_f7f64bda_5887_11eb_95ae_001a7dda7113row2_col32\" class=\"data row2 col32\" >admin</td>\n",
       "                        <td id=\"T_f7f64bda_5887_11eb_95ae_001a7dda7113row2_col33\" class=\"data row2 col33\" >nan</td>\n",
       "                        <td id=\"T_f7f64bda_5887_11eb_95ae_001a7dda7113row2_col34\" class=\"data row2 col34\" >5.000000</td>\n",
       "                        <td id=\"T_f7f64bda_5887_11eb_95ae_001a7dda7113row2_col35\" class=\"data row2 col35\" >0.000000</td>\n",
       "                        <td id=\"T_f7f64bda_5887_11eb_95ae_001a7dda7113row2_col36\" class=\"data row2 col36\" >0.000000</td>\n",
       "                        <td id=\"T_f7f64bda_5887_11eb_95ae_001a7dda7113row2_col37\" class=\"data row2 col37\" >0.000000</td>\n",
       "                        <td id=\"T_f7f64bda_5887_11eb_95ae_001a7dda7113row2_col38\" class=\"data row2 col38\" >11_August_2007</td>\n",
       "                        <td id=\"T_f7f64bda_5887_11eb_95ae_001a7dda7113row2_col39\" class=\"data row2 col39\" >NFH</td>\n",
       "                        <td id=\"T_f7f64bda_5887_11eb_95ae_001a7dda7113row2_col40\" class=\"data row2 col40\" >CrossProject</td>\n",
       "                        <td id=\"T_f7f64bda_5887_11eb_95ae_001a7dda7113row2_col41\" class=\"data row2 col41\" >1304</td>\n",
       "                        <td id=\"T_f7f64bda_5887_11eb_95ae_001a7dda7113row2_col42\" class=\"data row2 col42\" >Salary Report</td>\n",
       "                        <td id=\"T_f7f64bda_5887_11eb_95ae_001a7dda7113row2_col43\" class=\"data row2 col43\" >nan</td>\n",
       "                        <td id=\"T_f7f64bda_5887_11eb_95ae_001a7dda7113row2_col44\" class=\"data row2 col44\" >nan</td>\n",
       "                        <td id=\"T_f7f64bda_5887_11eb_95ae_001a7dda7113row2_col45\" class=\"data row2 col45\" >nan</td>\n",
       "                        <td id=\"T_f7f64bda_5887_11eb_95ae_001a7dda7113row2_col46\" class=\"data row2 col46\" >nan</td>\n",
       "                        <td id=\"T_f7f64bda_5887_11eb_95ae_001a7dda7113row2_col47\" class=\"data row2 col47\" >nan</td>\n",
       "                        <td id=\"T_f7f64bda_5887_11eb_95ae_001a7dda7113row2_col48\" class=\"data row2 col48\" >nan</td>\n",
       "                        <td id=\"T_f7f64bda_5887_11eb_95ae_001a7dda7113row2_col49\" class=\"data row2 col49\" >nan</td>\n",
       "                        <td id=\"T_f7f64bda_5887_11eb_95ae_001a7dda7113row2_col50\" class=\"data row2 col50\" >nan</td>\n",
       "                        <td id=\"T_f7f64bda_5887_11eb_95ae_001a7dda7113row2_col51\" class=\"data row2 col51\" >nan</td>\n",
       "                        <td id=\"T_f7f64bda_5887_11eb_95ae_001a7dda7113row2_col52\" class=\"data row2 col52\" >nan</td>\n",
       "                        <td id=\"T_f7f64bda_5887_11eb_95ae_001a7dda7113row2_col53\" class=\"data row2 col53\" >nan</td>\n",
       "                        <td id=\"T_f7f64bda_5887_11eb_95ae_001a7dda7113row2_col54\" class=\"data row2 col54\" >nan</td>\n",
       "                        <td id=\"T_f7f64bda_5887_11eb_95ae_001a7dda7113row2_col55\" class=\"data row2 col55\" >2020_08</td>\n",
       "                        <td id=\"T_f7f64bda_5887_11eb_95ae_001a7dda7113row2_col56\" class=\"data row2 col56\" >nan</td>\n",
       "                        <td id=\"T_f7f64bda_5887_11eb_95ae_001a7dda7113row2_col57\" class=\"data row2 col57\" >nan</td>\n",
       "                        <td id=\"T_f7f64bda_5887_11eb_95ae_001a7dda7113row2_col58\" class=\"data row2 col58\" >nan</td>\n",
       "                        <td id=\"T_f7f64bda_5887_11eb_95ae_001a7dda7113row2_col59\" class=\"data row2 col59\" >nan</td>\n",
       "                        <td id=\"T_f7f64bda_5887_11eb_95ae_001a7dda7113row2_col60\" class=\"data row2 col60\" >nan</td>\n",
       "                        <td id=\"T_f7f64bda_5887_11eb_95ae_001a7dda7113row2_col61\" class=\"data row2 col61\" >nan</td>\n",
       "                        <td id=\"T_f7f64bda_5887_11eb_95ae_001a7dda7113row2_col62\" class=\"data row2 col62\" >nan</td>\n",
       "                        <td id=\"T_f7f64bda_5887_11eb_95ae_001a7dda7113row2_col63\" class=\"data row2 col63\" >nan</td>\n",
       "                        <td id=\"T_f7f64bda_5887_11eb_95ae_001a7dda7113row2_col64\" class=\"data row2 col64\" >nan</td>\n",
       "                        <td id=\"T_f7f64bda_5887_11eb_95ae_001a7dda7113row2_col65\" class=\"data row2 col65\" >nan</td>\n",
       "                        <td id=\"T_f7f64bda_5887_11eb_95ae_001a7dda7113row2_col66\" class=\"data row2 col66\" >nan</td>\n",
       "                        <td id=\"T_f7f64bda_5887_11eb_95ae_001a7dda7113row2_col67\" class=\"data row2 col67\" >nan</td>\n",
       "                        <td id=\"T_f7f64bda_5887_11eb_95ae_001a7dda7113row2_col68\" class=\"data row2 col68\" >nan</td>\n",
       "                        <td id=\"T_f7f64bda_5887_11eb_95ae_001a7dda7113row2_col69\" class=\"data row2 col69\" >nan</td>\n",
       "                        <td id=\"T_f7f64bda_5887_11eb_95ae_001a7dda7113row2_col70\" class=\"data row2 col70\" >nan</td>\n",
       "            </tr>\n",
       "            <tr>\n",
       "                        <th id=\"T_f7f64bda_5887_11eb_95ae_001a7dda7113level0_row3\" class=\"row_heading level0 row3\" >3</th>\n",
       "                        <td id=\"T_f7f64bda_5887_11eb_95ae_001a7dda7113row3_col0\" class=\"data row3 col0\" >3468</td>\n",
       "                        <td id=\"T_f7f64bda_5887_11eb_95ae_001a7dda7113row3_col1\" class=\"data row3 col1\" >md joynal abedin</td>\n",
       "                        <td id=\"T_f7f64bda_5887_11eb_95ae_001a7dda7113row3_col2\" class=\"data row3 col2\" >office assistant</td>\n",
       "                        <td id=\"T_f7f64bda_5887_11eb_95ae_001a7dda7113row3_col3\" class=\"data row3 col3\" >2007-11-01</td>\n",
       "                        <td id=\"T_f7f64bda_5887_11eb_95ae_001a7dda7113row3_col4\" class=\"data row3 col4\" >3.000000</td>\n",
       "                        <td id=\"T_f7f64bda_5887_11eb_95ae_001a7dda7113row3_col5\" class=\"data row3 col5\" >20.000000</td>\n",
       "                        <td id=\"T_f7f64bda_5887_11eb_95ae_001a7dda7113row3_col6\" class=\"data row3 col6\" >0.000000</td>\n",
       "                        <td id=\"T_f7f64bda_5887_11eb_95ae_001a7dda7113row3_col7\" class=\"data row3 col7\" >8.000000</td>\n",
       "                        <td id=\"T_f7f64bda_5887_11eb_95ae_001a7dda7113row3_col8\" class=\"data row3 col8\" >3.000000</td>\n",
       "                        <td id=\"T_f7f64bda_5887_11eb_95ae_001a7dda7113row3_col9\" class=\"data row3 col9\" >31.000000</td>\n",
       "                        <td id=\"T_f7f64bda_5887_11eb_95ae_001a7dda7113row3_col10\" class=\"data row3 col10\" >25402.000000</td>\n",
       "                        <td id=\"T_f7f64bda_5887_11eb_95ae_001a7dda7113row3_col11\" class=\"data row3 col11\" >15701.000000</td>\n",
       "                        <td id=\"T_f7f64bda_5887_11eb_95ae_001a7dda7113row3_col12\" class=\"data row3 col12\" >7851.000000</td>\n",
       "                        <td id=\"T_f7f64bda_5887_11eb_95ae_001a7dda7113row3_col13\" class=\"data row3 col13\" >600.000000</td>\n",
       "                        <td id=\"T_f7f64bda_5887_11eb_95ae_001a7dda7113row3_col14\" class=\"data row3 col14\" >350.000000</td>\n",
       "                        <td id=\"T_f7f64bda_5887_11eb_95ae_001a7dda7113row3_col15\" class=\"data row3 col15\" >900.000000</td>\n",
       "                        <td id=\"T_f7f64bda_5887_11eb_95ae_001a7dda7113row3_col16\" class=\"data row3 col16\" >0.000000</td>\n",
       "                        <td id=\"T_f7f64bda_5887_11eb_95ae_001a7dda7113row3_col17\" class=\"data row3 col17\" >0.000000</td>\n",
       "                        <td id=\"T_f7f64bda_5887_11eb_95ae_001a7dda7113row3_col18\" class=\"data row3 col18\" >150.970000</td>\n",
       "                        <td id=\"T_f7f64bda_5887_11eb_95ae_001a7dda7113row3_col19\" class=\"data row3 col19\" >0.000000</td>\n",
       "                        <td id=\"T_f7f64bda_5887_11eb_95ae_001a7dda7113row3_col20\" class=\"data row3 col20\" >0.000000</td>\n",
       "                        <td id=\"T_f7f64bda_5887_11eb_95ae_001a7dda7113row3_col21\" class=\"data row3 col21\" >0.000000</td>\n",
       "                        <td id=\"T_f7f64bda_5887_11eb_95ae_001a7dda7113row3_col22\" class=\"data row3 col22\" >785.000000</td>\n",
       "                        <td id=\"T_f7f64bda_5887_11eb_95ae_001a7dda7113row3_col23\" class=\"data row3 col23\" >0.000000</td>\n",
       "                        <td id=\"T_f7f64bda_5887_11eb_95ae_001a7dda7113row3_col24\" class=\"data row3 col24\" >0.000000</td>\n",
       "                        <td id=\"T_f7f64bda_5887_11eb_95ae_001a7dda7113row3_col25\" class=\"data row3 col25\" >0.000000</td>\n",
       "                        <td id=\"T_f7f64bda_5887_11eb_95ae_001a7dda7113row3_col26\" class=\"data row3 col26\" >0.000000</td>\n",
       "                        <td id=\"T_f7f64bda_5887_11eb_95ae_001a7dda7113row3_col27\" class=\"data row3 col27\" >790.000000</td>\n",
       "                        <td id=\"T_f7f64bda_5887_11eb_95ae_001a7dda7113row3_col28\" class=\"data row3 col28\" >24612.000000</td>\n",
       "                        <td id=\"T_f7f64bda_5887_11eb_95ae_001a7dda7113row3_col29\" class=\"data row3 col29\" >administration</td>\n",
       "                        <td id=\"T_f7f64bda_5887_11eb_95ae_001a7dda7113row3_col30\" class=\"data row3 col30\" >august_2020</td>\n",
       "                        <td id=\"T_f7f64bda_5887_11eb_95ae_001a7dda7113row3_col31\" class=\"data row3 col31\" >nan</td>\n",
       "                        <td id=\"T_f7f64bda_5887_11eb_95ae_001a7dda7113row3_col32\" class=\"data row3 col32\" >admin</td>\n",
       "                        <td id=\"T_f7f64bda_5887_11eb_95ae_001a7dda7113row3_col33\" class=\"data row3 col33\" >nan</td>\n",
       "                        <td id=\"T_f7f64bda_5887_11eb_95ae_001a7dda7113row3_col34\" class=\"data row3 col34\" >5.000000</td>\n",
       "                        <td id=\"T_f7f64bda_5887_11eb_95ae_001a7dda7113row3_col35\" class=\"data row3 col35\" >0.000000</td>\n",
       "                        <td id=\"T_f7f64bda_5887_11eb_95ae_001a7dda7113row3_col36\" class=\"data row3 col36\" >0.000000</td>\n",
       "                        <td id=\"T_f7f64bda_5887_11eb_95ae_001a7dda7113row3_col37\" class=\"data row3 col37\" >0.000000</td>\n",
       "                        <td id=\"T_f7f64bda_5887_11eb_95ae_001a7dda7113row3_col38\" class=\"data row3 col38\" >01_November_2007</td>\n",
       "                        <td id=\"T_f7f64bda_5887_11eb_95ae_001a7dda7113row3_col39\" class=\"data row3 col39\" >NFH</td>\n",
       "                        <td id=\"T_f7f64bda_5887_11eb_95ae_001a7dda7113row3_col40\" class=\"data row3 col40\" >CrossProject</td>\n",
       "                        <td id=\"T_f7f64bda_5887_11eb_95ae_001a7dda7113row3_col41\" class=\"data row3 col41\" >1304</td>\n",
       "                        <td id=\"T_f7f64bda_5887_11eb_95ae_001a7dda7113row3_col42\" class=\"data row3 col42\" >Salary Report</td>\n",
       "                        <td id=\"T_f7f64bda_5887_11eb_95ae_001a7dda7113row3_col43\" class=\"data row3 col43\" >nan</td>\n",
       "                        <td id=\"T_f7f64bda_5887_11eb_95ae_001a7dda7113row3_col44\" class=\"data row3 col44\" >nan</td>\n",
       "                        <td id=\"T_f7f64bda_5887_11eb_95ae_001a7dda7113row3_col45\" class=\"data row3 col45\" >nan</td>\n",
       "                        <td id=\"T_f7f64bda_5887_11eb_95ae_001a7dda7113row3_col46\" class=\"data row3 col46\" >nan</td>\n",
       "                        <td id=\"T_f7f64bda_5887_11eb_95ae_001a7dda7113row3_col47\" class=\"data row3 col47\" >nan</td>\n",
       "                        <td id=\"T_f7f64bda_5887_11eb_95ae_001a7dda7113row3_col48\" class=\"data row3 col48\" >nan</td>\n",
       "                        <td id=\"T_f7f64bda_5887_11eb_95ae_001a7dda7113row3_col49\" class=\"data row3 col49\" >nan</td>\n",
       "                        <td id=\"T_f7f64bda_5887_11eb_95ae_001a7dda7113row3_col50\" class=\"data row3 col50\" >nan</td>\n",
       "                        <td id=\"T_f7f64bda_5887_11eb_95ae_001a7dda7113row3_col51\" class=\"data row3 col51\" >nan</td>\n",
       "                        <td id=\"T_f7f64bda_5887_11eb_95ae_001a7dda7113row3_col52\" class=\"data row3 col52\" >nan</td>\n",
       "                        <td id=\"T_f7f64bda_5887_11eb_95ae_001a7dda7113row3_col53\" class=\"data row3 col53\" >nan</td>\n",
       "                        <td id=\"T_f7f64bda_5887_11eb_95ae_001a7dda7113row3_col54\" class=\"data row3 col54\" >nan</td>\n",
       "                        <td id=\"T_f7f64bda_5887_11eb_95ae_001a7dda7113row3_col55\" class=\"data row3 col55\" >2020_08</td>\n",
       "                        <td id=\"T_f7f64bda_5887_11eb_95ae_001a7dda7113row3_col56\" class=\"data row3 col56\" >nan</td>\n",
       "                        <td id=\"T_f7f64bda_5887_11eb_95ae_001a7dda7113row3_col57\" class=\"data row3 col57\" >nan</td>\n",
       "                        <td id=\"T_f7f64bda_5887_11eb_95ae_001a7dda7113row3_col58\" class=\"data row3 col58\" >nan</td>\n",
       "                        <td id=\"T_f7f64bda_5887_11eb_95ae_001a7dda7113row3_col59\" class=\"data row3 col59\" >nan</td>\n",
       "                        <td id=\"T_f7f64bda_5887_11eb_95ae_001a7dda7113row3_col60\" class=\"data row3 col60\" >nan</td>\n",
       "                        <td id=\"T_f7f64bda_5887_11eb_95ae_001a7dda7113row3_col61\" class=\"data row3 col61\" >nan</td>\n",
       "                        <td id=\"T_f7f64bda_5887_11eb_95ae_001a7dda7113row3_col62\" class=\"data row3 col62\" >nan</td>\n",
       "                        <td id=\"T_f7f64bda_5887_11eb_95ae_001a7dda7113row3_col63\" class=\"data row3 col63\" >nan</td>\n",
       "                        <td id=\"T_f7f64bda_5887_11eb_95ae_001a7dda7113row3_col64\" class=\"data row3 col64\" >nan</td>\n",
       "                        <td id=\"T_f7f64bda_5887_11eb_95ae_001a7dda7113row3_col65\" class=\"data row3 col65\" >nan</td>\n",
       "                        <td id=\"T_f7f64bda_5887_11eb_95ae_001a7dda7113row3_col66\" class=\"data row3 col66\" >nan</td>\n",
       "                        <td id=\"T_f7f64bda_5887_11eb_95ae_001a7dda7113row3_col67\" class=\"data row3 col67\" >nan</td>\n",
       "                        <td id=\"T_f7f64bda_5887_11eb_95ae_001a7dda7113row3_col68\" class=\"data row3 col68\" >nan</td>\n",
       "                        <td id=\"T_f7f64bda_5887_11eb_95ae_001a7dda7113row3_col69\" class=\"data row3 col69\" >nan</td>\n",
       "                        <td id=\"T_f7f64bda_5887_11eb_95ae_001a7dda7113row3_col70\" class=\"data row3 col70\" >nan</td>\n",
       "            </tr>\n",
       "            <tr>\n",
       "                        <th id=\"T_f7f64bda_5887_11eb_95ae_001a7dda7113level0_row4\" class=\"row_heading level0 row4\" >4</th>\n",
       "                        <td id=\"T_f7f64bda_5887_11eb_95ae_001a7dda7113row4_col0\" class=\"data row4 col0\" >5233</td>\n",
       "                        <td id=\"T_f7f64bda_5887_11eb_95ae_001a7dda7113row4_col1\" class=\"data row4 col1\" >mohibulla titu</td>\n",
       "                        <td id=\"T_f7f64bda_5887_11eb_95ae_001a7dda7113row4_col2\" class=\"data row4 col2\" >office attendant</td>\n",
       "                        <td id=\"T_f7f64bda_5887_11eb_95ae_001a7dda7113row4_col3\" class=\"data row4 col3\" >2008-07-01</td>\n",
       "                        <td id=\"T_f7f64bda_5887_11eb_95ae_001a7dda7113row4_col4\" class=\"data row4 col4\" >4.000000</td>\n",
       "                        <td id=\"T_f7f64bda_5887_11eb_95ae_001a7dda7113row4_col5\" class=\"data row4 col5\" >23.000000</td>\n",
       "                        <td id=\"T_f7f64bda_5887_11eb_95ae_001a7dda7113row4_col6\" class=\"data row4 col6\" >0.000000</td>\n",
       "                        <td id=\"T_f7f64bda_5887_11eb_95ae_001a7dda7113row4_col7\" class=\"data row4 col7\" >8.000000</td>\n",
       "                        <td id=\"T_f7f64bda_5887_11eb_95ae_001a7dda7113row4_col8\" class=\"data row4 col8\" >0.000000</td>\n",
       "                        <td id=\"T_f7f64bda_5887_11eb_95ae_001a7dda7113row4_col9\" class=\"data row4 col9\" >31.000000</td>\n",
       "                        <td id=\"T_f7f64bda_5887_11eb_95ae_001a7dda7113row4_col10\" class=\"data row4 col10\" >17799.000000</td>\n",
       "                        <td id=\"T_f7f64bda_5887_11eb_95ae_001a7dda7113row4_col11\" class=\"data row4 col11\" >10633.000000</td>\n",
       "                        <td id=\"T_f7f64bda_5887_11eb_95ae_001a7dda7113row4_col12\" class=\"data row4 col12\" >5316.000000</td>\n",
       "                        <td id=\"T_f7f64bda_5887_11eb_95ae_001a7dda7113row4_col13\" class=\"data row4 col13\" >600.000000</td>\n",
       "                        <td id=\"T_f7f64bda_5887_11eb_95ae_001a7dda7113row4_col14\" class=\"data row4 col14\" >350.000000</td>\n",
       "                        <td id=\"T_f7f64bda_5887_11eb_95ae_001a7dda7113row4_col15\" class=\"data row4 col15\" >900.000000</td>\n",
       "                        <td id=\"T_f7f64bda_5887_11eb_95ae_001a7dda7113row4_col16\" class=\"data row4 col16\" >0.000000</td>\n",
       "                        <td id=\"T_f7f64bda_5887_11eb_95ae_001a7dda7113row4_col17\" class=\"data row4 col17\" >34.000000</td>\n",
       "                        <td id=\"T_f7f64bda_5887_11eb_95ae_001a7dda7113row4_col18\" class=\"data row4 col18\" >102.240000</td>\n",
       "                        <td id=\"T_f7f64bda_5887_11eb_95ae_001a7dda7113row4_col19\" class=\"data row4 col19\" >3476.000000</td>\n",
       "                        <td id=\"T_f7f64bda_5887_11eb_95ae_001a7dda7113row4_col20\" class=\"data row4 col20\" >0.000000</td>\n",
       "                        <td id=\"T_f7f64bda_5887_11eb_95ae_001a7dda7113row4_col21\" class=\"data row4 col21\" >0.000000</td>\n",
       "                        <td id=\"T_f7f64bda_5887_11eb_95ae_001a7dda7113row4_col22\" class=\"data row4 col22\" >532.000000</td>\n",
       "                        <td id=\"T_f7f64bda_5887_11eb_95ae_001a7dda7113row4_col23\" class=\"data row4 col23\" >0.000000</td>\n",
       "                        <td id=\"T_f7f64bda_5887_11eb_95ae_001a7dda7113row4_col24\" class=\"data row4 col24\" >0.000000</td>\n",
       "                        <td id=\"T_f7f64bda_5887_11eb_95ae_001a7dda7113row4_col25\" class=\"data row4 col25\" >0.000000</td>\n",
       "                        <td id=\"T_f7f64bda_5887_11eb_95ae_001a7dda7113row4_col26\" class=\"data row4 col26\" >15000.000000</td>\n",
       "                        <td id=\"T_f7f64bda_5887_11eb_95ae_001a7dda7113row4_col27\" class=\"data row4 col27\" >15537.000000</td>\n",
       "                        <td id=\"T_f7f64bda_5887_11eb_95ae_001a7dda7113row4_col28\" class=\"data row4 col28\" >5738.000000</td>\n",
       "                        <td id=\"T_f7f64bda_5887_11eb_95ae_001a7dda7113row4_col29\" class=\"data row4 col29\" >administration</td>\n",
       "                        <td id=\"T_f7f64bda_5887_11eb_95ae_001a7dda7113row4_col30\" class=\"data row4 col30\" >august_2020</td>\n",
       "                        <td id=\"T_f7f64bda_5887_11eb_95ae_001a7dda7113row4_col31\" class=\"data row4 col31\" >nan</td>\n",
       "                        <td id=\"T_f7f64bda_5887_11eb_95ae_001a7dda7113row4_col32\" class=\"data row4 col32\" >admin</td>\n",
       "                        <td id=\"T_f7f64bda_5887_11eb_95ae_001a7dda7113row4_col33\" class=\"data row4 col33\" >nan</td>\n",
       "                        <td id=\"T_f7f64bda_5887_11eb_95ae_001a7dda7113row4_col34\" class=\"data row4 col34\" >5.000000</td>\n",
       "                        <td id=\"T_f7f64bda_5887_11eb_95ae_001a7dda7113row4_col35\" class=\"data row4 col35\" >30.000000</td>\n",
       "                        <td id=\"T_f7f64bda_5887_11eb_95ae_001a7dda7113row4_col36\" class=\"data row4 col36\" >102.240000</td>\n",
       "                        <td id=\"T_f7f64bda_5887_11eb_95ae_001a7dda7113row4_col37\" class=\"data row4 col37\" >3067.000000</td>\n",
       "                        <td id=\"T_f7f64bda_5887_11eb_95ae_001a7dda7113row4_col38\" class=\"data row4 col38\" >01_July_2008</td>\n",
       "                        <td id=\"T_f7f64bda_5887_11eb_95ae_001a7dda7113row4_col39\" class=\"data row4 col39\" >NFH</td>\n",
       "                        <td id=\"T_f7f64bda_5887_11eb_95ae_001a7dda7113row4_col40\" class=\"data row4 col40\" >CrossProject</td>\n",
       "                        <td id=\"T_f7f64bda_5887_11eb_95ae_001a7dda7113row4_col41\" class=\"data row4 col41\" >1304</td>\n",
       "                        <td id=\"T_f7f64bda_5887_11eb_95ae_001a7dda7113row4_col42\" class=\"data row4 col42\" >Salary Report</td>\n",
       "                        <td id=\"T_f7f64bda_5887_11eb_95ae_001a7dda7113row4_col43\" class=\"data row4 col43\" >nan</td>\n",
       "                        <td id=\"T_f7f64bda_5887_11eb_95ae_001a7dda7113row4_col44\" class=\"data row4 col44\" >nan</td>\n",
       "                        <td id=\"T_f7f64bda_5887_11eb_95ae_001a7dda7113row4_col45\" class=\"data row4 col45\" >nan</td>\n",
       "                        <td id=\"T_f7f64bda_5887_11eb_95ae_001a7dda7113row4_col46\" class=\"data row4 col46\" >nan</td>\n",
       "                        <td id=\"T_f7f64bda_5887_11eb_95ae_001a7dda7113row4_col47\" class=\"data row4 col47\" >nan</td>\n",
       "                        <td id=\"T_f7f64bda_5887_11eb_95ae_001a7dda7113row4_col48\" class=\"data row4 col48\" >nan</td>\n",
       "                        <td id=\"T_f7f64bda_5887_11eb_95ae_001a7dda7113row4_col49\" class=\"data row4 col49\" >nan</td>\n",
       "                        <td id=\"T_f7f64bda_5887_11eb_95ae_001a7dda7113row4_col50\" class=\"data row4 col50\" >nan</td>\n",
       "                        <td id=\"T_f7f64bda_5887_11eb_95ae_001a7dda7113row4_col51\" class=\"data row4 col51\" >nan</td>\n",
       "                        <td id=\"T_f7f64bda_5887_11eb_95ae_001a7dda7113row4_col52\" class=\"data row4 col52\" >nan</td>\n",
       "                        <td id=\"T_f7f64bda_5887_11eb_95ae_001a7dda7113row4_col53\" class=\"data row4 col53\" >nan</td>\n",
       "                        <td id=\"T_f7f64bda_5887_11eb_95ae_001a7dda7113row4_col54\" class=\"data row4 col54\" >nan</td>\n",
       "                        <td id=\"T_f7f64bda_5887_11eb_95ae_001a7dda7113row4_col55\" class=\"data row4 col55\" >2020_08</td>\n",
       "                        <td id=\"T_f7f64bda_5887_11eb_95ae_001a7dda7113row4_col56\" class=\"data row4 col56\" >nan</td>\n",
       "                        <td id=\"T_f7f64bda_5887_11eb_95ae_001a7dda7113row4_col57\" class=\"data row4 col57\" >nan</td>\n",
       "                        <td id=\"T_f7f64bda_5887_11eb_95ae_001a7dda7113row4_col58\" class=\"data row4 col58\" >nan</td>\n",
       "                        <td id=\"T_f7f64bda_5887_11eb_95ae_001a7dda7113row4_col59\" class=\"data row4 col59\" >nan</td>\n",
       "                        <td id=\"T_f7f64bda_5887_11eb_95ae_001a7dda7113row4_col60\" class=\"data row4 col60\" >nan</td>\n",
       "                        <td id=\"T_f7f64bda_5887_11eb_95ae_001a7dda7113row4_col61\" class=\"data row4 col61\" >nan</td>\n",
       "                        <td id=\"T_f7f64bda_5887_11eb_95ae_001a7dda7113row4_col62\" class=\"data row4 col62\" >nan</td>\n",
       "                        <td id=\"T_f7f64bda_5887_11eb_95ae_001a7dda7113row4_col63\" class=\"data row4 col63\" >nan</td>\n",
       "                        <td id=\"T_f7f64bda_5887_11eb_95ae_001a7dda7113row4_col64\" class=\"data row4 col64\" >nan</td>\n",
       "                        <td id=\"T_f7f64bda_5887_11eb_95ae_001a7dda7113row4_col65\" class=\"data row4 col65\" >nan</td>\n",
       "                        <td id=\"T_f7f64bda_5887_11eb_95ae_001a7dda7113row4_col66\" class=\"data row4 col66\" >nan</td>\n",
       "                        <td id=\"T_f7f64bda_5887_11eb_95ae_001a7dda7113row4_col67\" class=\"data row4 col67\" >nan</td>\n",
       "                        <td id=\"T_f7f64bda_5887_11eb_95ae_001a7dda7113row4_col68\" class=\"data row4 col68\" >nan</td>\n",
       "                        <td id=\"T_f7f64bda_5887_11eb_95ae_001a7dda7113row4_col69\" class=\"data row4 col69\" >nan</td>\n",
       "                        <td id=\"T_f7f64bda_5887_11eb_95ae_001a7dda7113row4_col70\" class=\"data row4 col70\" >nan</td>\n",
       "            </tr>\n",
       "    </tbody></table>"
      ],
      "text/plain": [
       "<pandas.io.formats.style.Styler at 0x2493aa0a8b0>"
      ]
     },
     "execution_count": 25,
     "metadata": {},
     "output_type": "execute_result"
    }
   ],
   "source": [
    "data.head().style"
   ]
  },
  {
   "cell_type": "code",
   "execution_count": 26,
   "metadata": {},
   "outputs": [],
   "source": [
    "data.reset_index(drop=True,inplace=True)"
   ]
  },
  {
   "cell_type": "code",
   "execution_count": null,
   "metadata": {},
   "outputs": [],
   "source": []
  },
  {
   "cell_type": "code",
   "execution_count": 29,
   "metadata": {},
   "outputs": [],
   "source": [
    "#dropping duplicates if there are any\n",
    "data.drop_duplicates(inplace=True)\n",
    "data.reset_index(drop=True,inplace=True)"
   ]
  },
  {
   "cell_type": "code",
   "execution_count": 30,
   "metadata": {},
   "outputs": [
    {
     "data": {
      "text/plain": [
       "137130"
      ]
     },
     "execution_count": 30,
     "metadata": {},
     "output_type": "execute_result"
    }
   ],
   "source": [
    "len(data)"
   ]
  },
  {
   "cell_type": "code",
   "execution_count": 31,
   "metadata": {},
   "outputs": [
    {
     "data": {
      "text/plain": [
       "False"
      ]
     },
     "execution_count": 31,
     "metadata": {},
     "output_type": "execute_result"
    }
   ],
   "source": [
    "any(data.columns.value_counts().values == 2)"
   ]
  },
  {
   "cell_type": "markdown",
   "metadata": {},
   "source": [
    "#### check dates' format before uploading"
   ]
  },
  {
   "cell_type": "code",
   "execution_count": null,
   "metadata": {},
   "outputs": [],
   "source": []
  },
  {
   "cell_type": "code",
   "execution_count": null,
   "metadata": {},
   "outputs": [],
   "source": [
    "data.date.unique()[:5]"
   ]
  },
  {
   "cell_type": "code",
   "execution_count": null,
   "metadata": {},
   "outputs": [],
   "source": [
    "data.doj.unique()"
   ]
  },
  {
   "cell_type": "code",
   "execution_count": null,
   "metadata": {},
   "outputs": [],
   "source": [
    "data['doj_string'] = pd.Series([e.strftime(\"%d_%B_%Y\") if pd.notnull(e) else e for e in data.doj], index=data.index)"
   ]
  },
  {
   "cell_type": "code",
   "execution_count": null,
   "metadata": {},
   "outputs": [],
   "source": []
  },
  {
   "cell_type": "code",
   "execution_count": null,
   "metadata": {},
   "outputs": [],
   "source": [
    "data.del_date.unique()"
   ]
  },
  {
   "cell_type": "code",
   "execution_count": null,
   "metadata": {},
   "outputs": [],
   "source": [
    "data[\"del_date\"] = pd.Series([datetime.datetime.strptime(item,\"%Y-%m-%d\").date() if pd.notnull(item) else np.nan for item in data.del_date],index=data.index)"
   ]
  },
  {
   "cell_type": "code",
   "execution_count": null,
   "metadata": {},
   "outputs": [],
   "source": [
    "data['del_date_string'] = pd.Series([e.strftime(\"%d_%B_%Y\") if pd.notnull(e) else e for e in data.del_date], index=data.index)"
   ]
  },
  {
   "cell_type": "code",
   "execution_count": null,
   "metadata": {},
   "outputs": [],
   "source": []
  },
  {
   "cell_type": "markdown",
   "metadata": {},
   "source": [
    "#### null to None - MySQL takes nulls as black string, hence changing the type"
   ]
  },
  {
   "cell_type": "code",
   "execution_count": 33,
   "metadata": {},
   "outputs": [],
   "source": [
    "data = data.where((pd.notnull(data)), None)"
   ]
  },
  {
   "cell_type": "code",
   "execution_count": 34,
   "metadata": {},
   "outputs": [
    {
     "data": {
      "text/html": [
       "<style  type=\"text/css\" >\n",
       "</style><table id=\"T_0144e41b_5888_11eb_8ef7_001a7dda7113\" ><thead>    <tr>        <th class=\"blank level0\" ></th>        <th class=\"col_heading level0 col0\" >id</th>        <th class=\"col_heading level0 col1\" >name</th>        <th class=\"col_heading level0 col2\" >designation</th>        <th class=\"col_heading level0 col3\" >doj</th>        <th class=\"col_heading level0 col4\" >grade</th>        <th class=\"col_heading level0 col5\" >attendance</th>        <th class=\"col_heading level0 col6\" >absent</th>        <th class=\"col_heading level0 col7\" >total_holidays</th>        <th class=\"col_heading level0 col8\" >total_leave</th>        <th class=\"col_heading level0 col9\" >dayspaid</th>        <th class=\"col_heading level0 col10\" >grosspay</th>        <th class=\"col_heading level0 col11\" >basic</th>        <th class=\"col_heading level0 col12\" >house_allowance</th>        <th class=\"col_heading level0 col13\" >medical_allowance</th>        <th class=\"col_heading level0 col14\" >conveyance</th>        <th class=\"col_heading level0 col15\" >food_allowance</th>        <th class=\"col_heading level0 col16\" >other_allowance</th>        <th class=\"col_heading level0 col17\" >ot_hrs</th>        <th class=\"col_heading level0 col18\" >ot_rate</th>        <th class=\"col_heading level0 col19\" >ot_amount</th>        <th class=\"col_heading level0 col20\" >arrear</th>        <th class=\"col_heading level0 col21\" >absent_deduction</th>        <th class=\"col_heading level0 col22\" >provident_fund</th>        <th class=\"col_heading level0 col23\" >tax_deduction</th>        <th class=\"col_heading level0 col24\" >stamp</th>        <th class=\"col_heading level0 col25\" >advance</th>        <th class=\"col_heading level0 col26\" >loan_deduction</th>        <th class=\"col_heading level0 col27\" >total_deduction</th>        <th class=\"col_heading level0 col28\" >netpay</th>        <th class=\"col_heading level0 col29\" >department</th>        <th class=\"col_heading level0 col30\" >month</th>        <th class=\"col_heading level0 col31\" >unit</th>        <th class=\"col_heading level0 col32\" >section</th>        <th class=\"col_heading level0 col33\" >desig_type_calc</th>        <th class=\"col_heading level0 col34\" >other_deduction</th>        <th class=\"col_heading level0 col35\" >eot_hrs</th>        <th class=\"col_heading level0 col36\" >eot_rate</th>        <th class=\"col_heading level0 col37\" >eot_amount</th>        <th class=\"col_heading level0 col38\" >doj_string</th>        <th class=\"col_heading level0 col39\" >analyst</th>        <th class=\"col_heading level0 col40\" >project</th>        <th class=\"col_heading level0 col41\" >fact_code</th>        <th class=\"col_heading level0 col42\" >report_name</th>        <th class=\"col_heading level0 col43\" >other_leave</th>        <th class=\"col_heading level0 col44\" >sick_leave</th>        <th class=\"col_heading level0 col45\" >late_days</th>        <th class=\"col_heading level0 col46\" >night_allowance</th>        <th class=\"col_heading level0 col47\" >grocery_advance_deduction</th>        <th class=\"col_heading level0 col48\" >path</th>        <th class=\"col_heading level0 col49\" >file</th>        <th class=\"col_heading level0 col50\" >sheet</th>        <th class=\"col_heading level0 col51\" >attendance_bonus</th>        <th class=\"col_heading level0 col52\" >line</th>        <th class=\"col_heading level0 col53\" >floor</th>        <th class=\"col_heading level0 col54\" >line_code</th>        <th class=\"col_heading level0 col55\" >month_no</th>        <th class=\"col_heading level0 col56\" >gender</th>        <th class=\"col_heading level0 col57\" >earned_leave</th>        <th class=\"col_heading level0 col58\" >weekend_holidays</th>        <th class=\"col_heading level0 col59\" >other_holidays</th>        <th class=\"col_heading level0 col60\" >factory_comments</th>        <th class=\"col_heading level0 col61\" >night_day</th>        <th class=\"col_heading level0 col62\" >extra_conveyance_days</th>        <th class=\"col_heading level0 col63\" >account_no</th>        <th class=\"col_heading level0 col64\" >mobile_allowance</th>        <th class=\"col_heading level0 col65\" >extra_conveyance_allowance</th>        <th class=\"col_heading level0 col66\" >employee_category</th>        <th class=\"col_heading level0 col67\" >maternity_leave</th>        <th class=\"col_heading level0 col68\" >casual_leave</th>        <th class=\"col_heading level0 col69\" >lunch_out_days</th>        <th class=\"col_heading level0 col70\" >lunch_out_deduction</th>    </tr></thead><tbody>\n",
       "                <tr>\n",
       "                        <th id=\"T_0144e41b_5888_11eb_8ef7_001a7dda7113level0_row0\" class=\"row_heading level0 row0\" >0</th>\n",
       "                        <td id=\"T_0144e41b_5888_11eb_8ef7_001a7dda7113row0_col0\" class=\"data row0 col0\" >11</td>\n",
       "                        <td id=\"T_0144e41b_5888_11eb_8ef7_001a7dda7113row0_col1\" class=\"data row0 col1\" >abdul awal</td>\n",
       "                        <td id=\"T_0144e41b_5888_11eb_8ef7_001a7dda7113row0_col2\" class=\"data row0 col2\" >sr. supervisor</td>\n",
       "                        <td id=\"T_0144e41b_5888_11eb_8ef7_001a7dda7113row0_col3\" class=\"data row0 col3\" >2006-06-06</td>\n",
       "                        <td id=\"T_0144e41b_5888_11eb_8ef7_001a7dda7113row0_col4\" class=\"data row0 col4\" >1.000000</td>\n",
       "                        <td id=\"T_0144e41b_5888_11eb_8ef7_001a7dda7113row0_col5\" class=\"data row0 col5\" >20.000000</td>\n",
       "                        <td id=\"T_0144e41b_5888_11eb_8ef7_001a7dda7113row0_col6\" class=\"data row0 col6\" >0.000000</td>\n",
       "                        <td id=\"T_0144e41b_5888_11eb_8ef7_001a7dda7113row0_col7\" class=\"data row0 col7\" >8</td>\n",
       "                        <td id=\"T_0144e41b_5888_11eb_8ef7_001a7dda7113row0_col8\" class=\"data row0 col8\" >3.000000</td>\n",
       "                        <td id=\"T_0144e41b_5888_11eb_8ef7_001a7dda7113row0_col9\" class=\"data row0 col9\" >31.000000</td>\n",
       "                        <td id=\"T_0144e41b_5888_11eb_8ef7_001a7dda7113row0_col10\" class=\"data row0 col10\" >25696.000000</td>\n",
       "                        <td id=\"T_0144e41b_5888_11eb_8ef7_001a7dda7113row0_col11\" class=\"data row0 col11\" >15897.000000</td>\n",
       "                        <td id=\"T_0144e41b_5888_11eb_8ef7_001a7dda7113row0_col12\" class=\"data row0 col12\" >7949.000000</td>\n",
       "                        <td id=\"T_0144e41b_5888_11eb_8ef7_001a7dda7113row0_col13\" class=\"data row0 col13\" >600.000000</td>\n",
       "                        <td id=\"T_0144e41b_5888_11eb_8ef7_001a7dda7113row0_col14\" class=\"data row0 col14\" >350.000000</td>\n",
       "                        <td id=\"T_0144e41b_5888_11eb_8ef7_001a7dda7113row0_col15\" class=\"data row0 col15\" >900.000000</td>\n",
       "                        <td id=\"T_0144e41b_5888_11eb_8ef7_001a7dda7113row0_col16\" class=\"data row0 col16\" >0.000000</td>\n",
       "                        <td id=\"T_0144e41b_5888_11eb_8ef7_001a7dda7113row0_col17\" class=\"data row0 col17\" >0.000000</td>\n",
       "                        <td id=\"T_0144e41b_5888_11eb_8ef7_001a7dda7113row0_col18\" class=\"data row0 col18\" >152.860000</td>\n",
       "                        <td id=\"T_0144e41b_5888_11eb_8ef7_001a7dda7113row0_col19\" class=\"data row0 col19\" >0.000000</td>\n",
       "                        <td id=\"T_0144e41b_5888_11eb_8ef7_001a7dda7113row0_col20\" class=\"data row0 col20\" >0.000000</td>\n",
       "                        <td id=\"T_0144e41b_5888_11eb_8ef7_001a7dda7113row0_col21\" class=\"data row0 col21\" >0.000000</td>\n",
       "                        <td id=\"T_0144e41b_5888_11eb_8ef7_001a7dda7113row0_col22\" class=\"data row0 col22\" >795.000000</td>\n",
       "                        <td id=\"T_0144e41b_5888_11eb_8ef7_001a7dda7113row0_col23\" class=\"data row0 col23\" >0.000000</td>\n",
       "                        <td id=\"T_0144e41b_5888_11eb_8ef7_001a7dda7113row0_col24\" class=\"data row0 col24\" >0.000000</td>\n",
       "                        <td id=\"T_0144e41b_5888_11eb_8ef7_001a7dda7113row0_col25\" class=\"data row0 col25\" >527.000000</td>\n",
       "                        <td id=\"T_0144e41b_5888_11eb_8ef7_001a7dda7113row0_col26\" class=\"data row0 col26\" >0.000000</td>\n",
       "                        <td id=\"T_0144e41b_5888_11eb_8ef7_001a7dda7113row0_col27\" class=\"data row0 col27\" >1327.000000</td>\n",
       "                        <td id=\"T_0144e41b_5888_11eb_8ef7_001a7dda7113row0_col28\" class=\"data row0 col28\" >24369.000000</td>\n",
       "                        <td id=\"T_0144e41b_5888_11eb_8ef7_001a7dda7113row0_col29\" class=\"data row0 col29\" >administration</td>\n",
       "                        <td id=\"T_0144e41b_5888_11eb_8ef7_001a7dda7113row0_col30\" class=\"data row0 col30\" >august_2020</td>\n",
       "                        <td id=\"T_0144e41b_5888_11eb_8ef7_001a7dda7113row0_col31\" class=\"data row0 col31\" >None</td>\n",
       "                        <td id=\"T_0144e41b_5888_11eb_8ef7_001a7dda7113row0_col32\" class=\"data row0 col32\" >admin</td>\n",
       "                        <td id=\"T_0144e41b_5888_11eb_8ef7_001a7dda7113row0_col33\" class=\"data row0 col33\" >None</td>\n",
       "                        <td id=\"T_0144e41b_5888_11eb_8ef7_001a7dda7113row0_col34\" class=\"data row0 col34\" >5.000000</td>\n",
       "                        <td id=\"T_0144e41b_5888_11eb_8ef7_001a7dda7113row0_col35\" class=\"data row0 col35\" >0.000000</td>\n",
       "                        <td id=\"T_0144e41b_5888_11eb_8ef7_001a7dda7113row0_col36\" class=\"data row0 col36\" >0.000000</td>\n",
       "                        <td id=\"T_0144e41b_5888_11eb_8ef7_001a7dda7113row0_col37\" class=\"data row0 col37\" >0.000000</td>\n",
       "                        <td id=\"T_0144e41b_5888_11eb_8ef7_001a7dda7113row0_col38\" class=\"data row0 col38\" >06_June_2006</td>\n",
       "                        <td id=\"T_0144e41b_5888_11eb_8ef7_001a7dda7113row0_col39\" class=\"data row0 col39\" >NFH</td>\n",
       "                        <td id=\"T_0144e41b_5888_11eb_8ef7_001a7dda7113row0_col40\" class=\"data row0 col40\" >CrossProject</td>\n",
       "                        <td id=\"T_0144e41b_5888_11eb_8ef7_001a7dda7113row0_col41\" class=\"data row0 col41\" >1304</td>\n",
       "                        <td id=\"T_0144e41b_5888_11eb_8ef7_001a7dda7113row0_col42\" class=\"data row0 col42\" >Salary Report</td>\n",
       "                        <td id=\"T_0144e41b_5888_11eb_8ef7_001a7dda7113row0_col43\" class=\"data row0 col43\" >None</td>\n",
       "                        <td id=\"T_0144e41b_5888_11eb_8ef7_001a7dda7113row0_col44\" class=\"data row0 col44\" >None</td>\n",
       "                        <td id=\"T_0144e41b_5888_11eb_8ef7_001a7dda7113row0_col45\" class=\"data row0 col45\" >None</td>\n",
       "                        <td id=\"T_0144e41b_5888_11eb_8ef7_001a7dda7113row0_col46\" class=\"data row0 col46\" >None</td>\n",
       "                        <td id=\"T_0144e41b_5888_11eb_8ef7_001a7dda7113row0_col47\" class=\"data row0 col47\" >None</td>\n",
       "                        <td id=\"T_0144e41b_5888_11eb_8ef7_001a7dda7113row0_col48\" class=\"data row0 col48\" >None</td>\n",
       "                        <td id=\"T_0144e41b_5888_11eb_8ef7_001a7dda7113row0_col49\" class=\"data row0 col49\" >None</td>\n",
       "                        <td id=\"T_0144e41b_5888_11eb_8ef7_001a7dda7113row0_col50\" class=\"data row0 col50\" >None</td>\n",
       "                        <td id=\"T_0144e41b_5888_11eb_8ef7_001a7dda7113row0_col51\" class=\"data row0 col51\" >None</td>\n",
       "                        <td id=\"T_0144e41b_5888_11eb_8ef7_001a7dda7113row0_col52\" class=\"data row0 col52\" >None</td>\n",
       "                        <td id=\"T_0144e41b_5888_11eb_8ef7_001a7dda7113row0_col53\" class=\"data row0 col53\" >None</td>\n",
       "                        <td id=\"T_0144e41b_5888_11eb_8ef7_001a7dda7113row0_col54\" class=\"data row0 col54\" >None</td>\n",
       "                        <td id=\"T_0144e41b_5888_11eb_8ef7_001a7dda7113row0_col55\" class=\"data row0 col55\" >2020_08</td>\n",
       "                        <td id=\"T_0144e41b_5888_11eb_8ef7_001a7dda7113row0_col56\" class=\"data row0 col56\" >None</td>\n",
       "                        <td id=\"T_0144e41b_5888_11eb_8ef7_001a7dda7113row0_col57\" class=\"data row0 col57\" >None</td>\n",
       "                        <td id=\"T_0144e41b_5888_11eb_8ef7_001a7dda7113row0_col58\" class=\"data row0 col58\" >None</td>\n",
       "                        <td id=\"T_0144e41b_5888_11eb_8ef7_001a7dda7113row0_col59\" class=\"data row0 col59\" >None</td>\n",
       "                        <td id=\"T_0144e41b_5888_11eb_8ef7_001a7dda7113row0_col60\" class=\"data row0 col60\" >None</td>\n",
       "                        <td id=\"T_0144e41b_5888_11eb_8ef7_001a7dda7113row0_col61\" class=\"data row0 col61\" >None</td>\n",
       "                        <td id=\"T_0144e41b_5888_11eb_8ef7_001a7dda7113row0_col62\" class=\"data row0 col62\" >None</td>\n",
       "                        <td id=\"T_0144e41b_5888_11eb_8ef7_001a7dda7113row0_col63\" class=\"data row0 col63\" >None</td>\n",
       "                        <td id=\"T_0144e41b_5888_11eb_8ef7_001a7dda7113row0_col64\" class=\"data row0 col64\" >None</td>\n",
       "                        <td id=\"T_0144e41b_5888_11eb_8ef7_001a7dda7113row0_col65\" class=\"data row0 col65\" >None</td>\n",
       "                        <td id=\"T_0144e41b_5888_11eb_8ef7_001a7dda7113row0_col66\" class=\"data row0 col66\" >None</td>\n",
       "                        <td id=\"T_0144e41b_5888_11eb_8ef7_001a7dda7113row0_col67\" class=\"data row0 col67\" >None</td>\n",
       "                        <td id=\"T_0144e41b_5888_11eb_8ef7_001a7dda7113row0_col68\" class=\"data row0 col68\" >None</td>\n",
       "                        <td id=\"T_0144e41b_5888_11eb_8ef7_001a7dda7113row0_col69\" class=\"data row0 col69\" >None</td>\n",
       "                        <td id=\"T_0144e41b_5888_11eb_8ef7_001a7dda7113row0_col70\" class=\"data row0 col70\" >None</td>\n",
       "            </tr>\n",
       "            <tr>\n",
       "                        <th id=\"T_0144e41b_5888_11eb_8ef7_001a7dda7113level0_row1\" class=\"row_heading level0 row1\" >1</th>\n",
       "                        <td id=\"T_0144e41b_5888_11eb_8ef7_001a7dda7113row1_col0\" class=\"data row1 col0\" >43</td>\n",
       "                        <td id=\"T_0144e41b_5888_11eb_8ef7_001a7dda7113row1_col1\" class=\"data row1 col1\" >abu musa</td>\n",
       "                        <td id=\"T_0144e41b_5888_11eb_8ef7_001a7dda7113row1_col2\" class=\"data row1 col2\" >sr. cook</td>\n",
       "                        <td id=\"T_0144e41b_5888_11eb_8ef7_001a7dda7113row1_col3\" class=\"data row1 col3\" >2006-08-16</td>\n",
       "                        <td id=\"T_0144e41b_5888_11eb_8ef7_001a7dda7113row1_col4\" class=\"data row1 col4\" >3.000000</td>\n",
       "                        <td id=\"T_0144e41b_5888_11eb_8ef7_001a7dda7113row1_col5\" class=\"data row1 col5\" >23.000000</td>\n",
       "                        <td id=\"T_0144e41b_5888_11eb_8ef7_001a7dda7113row1_col6\" class=\"data row1 col6\" >0.000000</td>\n",
       "                        <td id=\"T_0144e41b_5888_11eb_8ef7_001a7dda7113row1_col7\" class=\"data row1 col7\" >8</td>\n",
       "                        <td id=\"T_0144e41b_5888_11eb_8ef7_001a7dda7113row1_col8\" class=\"data row1 col8\" >0.000000</td>\n",
       "                        <td id=\"T_0144e41b_5888_11eb_8ef7_001a7dda7113row1_col9\" class=\"data row1 col9\" >31.000000</td>\n",
       "                        <td id=\"T_0144e41b_5888_11eb_8ef7_001a7dda7113row1_col10\" class=\"data row1 col10\" >25303.000000</td>\n",
       "                        <td id=\"T_0144e41b_5888_11eb_8ef7_001a7dda7113row1_col11\" class=\"data row1 col11\" >15635.000000</td>\n",
       "                        <td id=\"T_0144e41b_5888_11eb_8ef7_001a7dda7113row1_col12\" class=\"data row1 col12\" >7818.000000</td>\n",
       "                        <td id=\"T_0144e41b_5888_11eb_8ef7_001a7dda7113row1_col13\" class=\"data row1 col13\" >600.000000</td>\n",
       "                        <td id=\"T_0144e41b_5888_11eb_8ef7_001a7dda7113row1_col14\" class=\"data row1 col14\" >350.000000</td>\n",
       "                        <td id=\"T_0144e41b_5888_11eb_8ef7_001a7dda7113row1_col15\" class=\"data row1 col15\" >900.000000</td>\n",
       "                        <td id=\"T_0144e41b_5888_11eb_8ef7_001a7dda7113row1_col16\" class=\"data row1 col16\" >0.000000</td>\n",
       "                        <td id=\"T_0144e41b_5888_11eb_8ef7_001a7dda7113row1_col17\" class=\"data row1 col17\" >0.000000</td>\n",
       "                        <td id=\"T_0144e41b_5888_11eb_8ef7_001a7dda7113row1_col18\" class=\"data row1 col18\" >150.340000</td>\n",
       "                        <td id=\"T_0144e41b_5888_11eb_8ef7_001a7dda7113row1_col19\" class=\"data row1 col19\" >0.000000</td>\n",
       "                        <td id=\"T_0144e41b_5888_11eb_8ef7_001a7dda7113row1_col20\" class=\"data row1 col20\" >0.000000</td>\n",
       "                        <td id=\"T_0144e41b_5888_11eb_8ef7_001a7dda7113row1_col21\" class=\"data row1 col21\" >0.000000</td>\n",
       "                        <td id=\"T_0144e41b_5888_11eb_8ef7_001a7dda7113row1_col22\" class=\"data row1 col22\" >782.000000</td>\n",
       "                        <td id=\"T_0144e41b_5888_11eb_8ef7_001a7dda7113row1_col23\" class=\"data row1 col23\" >0.000000</td>\n",
       "                        <td id=\"T_0144e41b_5888_11eb_8ef7_001a7dda7113row1_col24\" class=\"data row1 col24\" >0.000000</td>\n",
       "                        <td id=\"T_0144e41b_5888_11eb_8ef7_001a7dda7113row1_col25\" class=\"data row1 col25\" >0.000000</td>\n",
       "                        <td id=\"T_0144e41b_5888_11eb_8ef7_001a7dda7113row1_col26\" class=\"data row1 col26\" >0.000000</td>\n",
       "                        <td id=\"T_0144e41b_5888_11eb_8ef7_001a7dda7113row1_col27\" class=\"data row1 col27\" >787.000000</td>\n",
       "                        <td id=\"T_0144e41b_5888_11eb_8ef7_001a7dda7113row1_col28\" class=\"data row1 col28\" >24516.000000</td>\n",
       "                        <td id=\"T_0144e41b_5888_11eb_8ef7_001a7dda7113row1_col29\" class=\"data row1 col29\" >administration</td>\n",
       "                        <td id=\"T_0144e41b_5888_11eb_8ef7_001a7dda7113row1_col30\" class=\"data row1 col30\" >august_2020</td>\n",
       "                        <td id=\"T_0144e41b_5888_11eb_8ef7_001a7dda7113row1_col31\" class=\"data row1 col31\" >None</td>\n",
       "                        <td id=\"T_0144e41b_5888_11eb_8ef7_001a7dda7113row1_col32\" class=\"data row1 col32\" >admin</td>\n",
       "                        <td id=\"T_0144e41b_5888_11eb_8ef7_001a7dda7113row1_col33\" class=\"data row1 col33\" >None</td>\n",
       "                        <td id=\"T_0144e41b_5888_11eb_8ef7_001a7dda7113row1_col34\" class=\"data row1 col34\" >5.000000</td>\n",
       "                        <td id=\"T_0144e41b_5888_11eb_8ef7_001a7dda7113row1_col35\" class=\"data row1 col35\" >0.000000</td>\n",
       "                        <td id=\"T_0144e41b_5888_11eb_8ef7_001a7dda7113row1_col36\" class=\"data row1 col36\" >0.000000</td>\n",
       "                        <td id=\"T_0144e41b_5888_11eb_8ef7_001a7dda7113row1_col37\" class=\"data row1 col37\" >0.000000</td>\n",
       "                        <td id=\"T_0144e41b_5888_11eb_8ef7_001a7dda7113row1_col38\" class=\"data row1 col38\" >16_August_2006</td>\n",
       "                        <td id=\"T_0144e41b_5888_11eb_8ef7_001a7dda7113row1_col39\" class=\"data row1 col39\" >NFH</td>\n",
       "                        <td id=\"T_0144e41b_5888_11eb_8ef7_001a7dda7113row1_col40\" class=\"data row1 col40\" >CrossProject</td>\n",
       "                        <td id=\"T_0144e41b_5888_11eb_8ef7_001a7dda7113row1_col41\" class=\"data row1 col41\" >1304</td>\n",
       "                        <td id=\"T_0144e41b_5888_11eb_8ef7_001a7dda7113row1_col42\" class=\"data row1 col42\" >Salary Report</td>\n",
       "                        <td id=\"T_0144e41b_5888_11eb_8ef7_001a7dda7113row1_col43\" class=\"data row1 col43\" >None</td>\n",
       "                        <td id=\"T_0144e41b_5888_11eb_8ef7_001a7dda7113row1_col44\" class=\"data row1 col44\" >None</td>\n",
       "                        <td id=\"T_0144e41b_5888_11eb_8ef7_001a7dda7113row1_col45\" class=\"data row1 col45\" >None</td>\n",
       "                        <td id=\"T_0144e41b_5888_11eb_8ef7_001a7dda7113row1_col46\" class=\"data row1 col46\" >None</td>\n",
       "                        <td id=\"T_0144e41b_5888_11eb_8ef7_001a7dda7113row1_col47\" class=\"data row1 col47\" >None</td>\n",
       "                        <td id=\"T_0144e41b_5888_11eb_8ef7_001a7dda7113row1_col48\" class=\"data row1 col48\" >None</td>\n",
       "                        <td id=\"T_0144e41b_5888_11eb_8ef7_001a7dda7113row1_col49\" class=\"data row1 col49\" >None</td>\n",
       "                        <td id=\"T_0144e41b_5888_11eb_8ef7_001a7dda7113row1_col50\" class=\"data row1 col50\" >None</td>\n",
       "                        <td id=\"T_0144e41b_5888_11eb_8ef7_001a7dda7113row1_col51\" class=\"data row1 col51\" >None</td>\n",
       "                        <td id=\"T_0144e41b_5888_11eb_8ef7_001a7dda7113row1_col52\" class=\"data row1 col52\" >None</td>\n",
       "                        <td id=\"T_0144e41b_5888_11eb_8ef7_001a7dda7113row1_col53\" class=\"data row1 col53\" >None</td>\n",
       "                        <td id=\"T_0144e41b_5888_11eb_8ef7_001a7dda7113row1_col54\" class=\"data row1 col54\" >None</td>\n",
       "                        <td id=\"T_0144e41b_5888_11eb_8ef7_001a7dda7113row1_col55\" class=\"data row1 col55\" >2020_08</td>\n",
       "                        <td id=\"T_0144e41b_5888_11eb_8ef7_001a7dda7113row1_col56\" class=\"data row1 col56\" >None</td>\n",
       "                        <td id=\"T_0144e41b_5888_11eb_8ef7_001a7dda7113row1_col57\" class=\"data row1 col57\" >None</td>\n",
       "                        <td id=\"T_0144e41b_5888_11eb_8ef7_001a7dda7113row1_col58\" class=\"data row1 col58\" >None</td>\n",
       "                        <td id=\"T_0144e41b_5888_11eb_8ef7_001a7dda7113row1_col59\" class=\"data row1 col59\" >None</td>\n",
       "                        <td id=\"T_0144e41b_5888_11eb_8ef7_001a7dda7113row1_col60\" class=\"data row1 col60\" >None</td>\n",
       "                        <td id=\"T_0144e41b_5888_11eb_8ef7_001a7dda7113row1_col61\" class=\"data row1 col61\" >None</td>\n",
       "                        <td id=\"T_0144e41b_5888_11eb_8ef7_001a7dda7113row1_col62\" class=\"data row1 col62\" >None</td>\n",
       "                        <td id=\"T_0144e41b_5888_11eb_8ef7_001a7dda7113row1_col63\" class=\"data row1 col63\" >None</td>\n",
       "                        <td id=\"T_0144e41b_5888_11eb_8ef7_001a7dda7113row1_col64\" class=\"data row1 col64\" >None</td>\n",
       "                        <td id=\"T_0144e41b_5888_11eb_8ef7_001a7dda7113row1_col65\" class=\"data row1 col65\" >None</td>\n",
       "                        <td id=\"T_0144e41b_5888_11eb_8ef7_001a7dda7113row1_col66\" class=\"data row1 col66\" >None</td>\n",
       "                        <td id=\"T_0144e41b_5888_11eb_8ef7_001a7dda7113row1_col67\" class=\"data row1 col67\" >None</td>\n",
       "                        <td id=\"T_0144e41b_5888_11eb_8ef7_001a7dda7113row1_col68\" class=\"data row1 col68\" >None</td>\n",
       "                        <td id=\"T_0144e41b_5888_11eb_8ef7_001a7dda7113row1_col69\" class=\"data row1 col69\" >None</td>\n",
       "                        <td id=\"T_0144e41b_5888_11eb_8ef7_001a7dda7113row1_col70\" class=\"data row1 col70\" >None</td>\n",
       "            </tr>\n",
       "            <tr>\n",
       "                        <th id=\"T_0144e41b_5888_11eb_8ef7_001a7dda7113level0_row2\" class=\"row_heading level0 row2\" >2</th>\n",
       "                        <td id=\"T_0144e41b_5888_11eb_8ef7_001a7dda7113row2_col0\" class=\"data row2 col0\" >3064</td>\n",
       "                        <td id=\"T_0144e41b_5888_11eb_8ef7_001a7dda7113row2_col1\" class=\"data row2 col1\" >md khalilur rahman</td>\n",
       "                        <td id=\"T_0144e41b_5888_11eb_8ef7_001a7dda7113row2_col2\" class=\"data row2 col2\" >gardener</td>\n",
       "                        <td id=\"T_0144e41b_5888_11eb_8ef7_001a7dda7113row2_col3\" class=\"data row2 col3\" >2007-08-11</td>\n",
       "                        <td id=\"T_0144e41b_5888_11eb_8ef7_001a7dda7113row2_col4\" class=\"data row2 col4\" >4.000000</td>\n",
       "                        <td id=\"T_0144e41b_5888_11eb_8ef7_001a7dda7113row2_col5\" class=\"data row2 col5\" >15.000000</td>\n",
       "                        <td id=\"T_0144e41b_5888_11eb_8ef7_001a7dda7113row2_col6\" class=\"data row2 col6\" >8.000000</td>\n",
       "                        <td id=\"T_0144e41b_5888_11eb_8ef7_001a7dda7113row2_col7\" class=\"data row2 col7\" >8</td>\n",
       "                        <td id=\"T_0144e41b_5888_11eb_8ef7_001a7dda7113row2_col8\" class=\"data row2 col8\" >0.000000</td>\n",
       "                        <td id=\"T_0144e41b_5888_11eb_8ef7_001a7dda7113row2_col9\" class=\"data row2 col9\" >23.000000</td>\n",
       "                        <td id=\"T_0144e41b_5888_11eb_8ef7_001a7dda7113row2_col10\" class=\"data row2 col10\" >24100.000000</td>\n",
       "                        <td id=\"T_0144e41b_5888_11eb_8ef7_001a7dda7113row2_col11\" class=\"data row2 col11\" >14833.000000</td>\n",
       "                        <td id=\"T_0144e41b_5888_11eb_8ef7_001a7dda7113row2_col12\" class=\"data row2 col12\" >7417.000000</td>\n",
       "                        <td id=\"T_0144e41b_5888_11eb_8ef7_001a7dda7113row2_col13\" class=\"data row2 col13\" >600.000000</td>\n",
       "                        <td id=\"T_0144e41b_5888_11eb_8ef7_001a7dda7113row2_col14\" class=\"data row2 col14\" >350.000000</td>\n",
       "                        <td id=\"T_0144e41b_5888_11eb_8ef7_001a7dda7113row2_col15\" class=\"data row2 col15\" >900.000000</td>\n",
       "                        <td id=\"T_0144e41b_5888_11eb_8ef7_001a7dda7113row2_col16\" class=\"data row2 col16\" >0.000000</td>\n",
       "                        <td id=\"T_0144e41b_5888_11eb_8ef7_001a7dda7113row2_col17\" class=\"data row2 col17\" >0.000000</td>\n",
       "                        <td id=\"T_0144e41b_5888_11eb_8ef7_001a7dda7113row2_col18\" class=\"data row2 col18\" >142.630000</td>\n",
       "                        <td id=\"T_0144e41b_5888_11eb_8ef7_001a7dda7113row2_col19\" class=\"data row2 col19\" >0.000000</td>\n",
       "                        <td id=\"T_0144e41b_5888_11eb_8ef7_001a7dda7113row2_col20\" class=\"data row2 col20\" >0.000000</td>\n",
       "                        <td id=\"T_0144e41b_5888_11eb_8ef7_001a7dda7113row2_col21\" class=\"data row2 col21\" >3955.000000</td>\n",
       "                        <td id=\"T_0144e41b_5888_11eb_8ef7_001a7dda7113row2_col22\" class=\"data row2 col22\" >742.000000</td>\n",
       "                        <td id=\"T_0144e41b_5888_11eb_8ef7_001a7dda7113row2_col23\" class=\"data row2 col23\" >0.000000</td>\n",
       "                        <td id=\"T_0144e41b_5888_11eb_8ef7_001a7dda7113row2_col24\" class=\"data row2 col24\" >0.000000</td>\n",
       "                        <td id=\"T_0144e41b_5888_11eb_8ef7_001a7dda7113row2_col25\" class=\"data row2 col25\" >0.000000</td>\n",
       "                        <td id=\"T_0144e41b_5888_11eb_8ef7_001a7dda7113row2_col26\" class=\"data row2 col26\" >0.000000</td>\n",
       "                        <td id=\"T_0144e41b_5888_11eb_8ef7_001a7dda7113row2_col27\" class=\"data row2 col27\" >747.000000</td>\n",
       "                        <td id=\"T_0144e41b_5888_11eb_8ef7_001a7dda7113row2_col28\" class=\"data row2 col28\" >19398.000000</td>\n",
       "                        <td id=\"T_0144e41b_5888_11eb_8ef7_001a7dda7113row2_col29\" class=\"data row2 col29\" >administration</td>\n",
       "                        <td id=\"T_0144e41b_5888_11eb_8ef7_001a7dda7113row2_col30\" class=\"data row2 col30\" >august_2020</td>\n",
       "                        <td id=\"T_0144e41b_5888_11eb_8ef7_001a7dda7113row2_col31\" class=\"data row2 col31\" >None</td>\n",
       "                        <td id=\"T_0144e41b_5888_11eb_8ef7_001a7dda7113row2_col32\" class=\"data row2 col32\" >admin</td>\n",
       "                        <td id=\"T_0144e41b_5888_11eb_8ef7_001a7dda7113row2_col33\" class=\"data row2 col33\" >None</td>\n",
       "                        <td id=\"T_0144e41b_5888_11eb_8ef7_001a7dda7113row2_col34\" class=\"data row2 col34\" >5.000000</td>\n",
       "                        <td id=\"T_0144e41b_5888_11eb_8ef7_001a7dda7113row2_col35\" class=\"data row2 col35\" >0.000000</td>\n",
       "                        <td id=\"T_0144e41b_5888_11eb_8ef7_001a7dda7113row2_col36\" class=\"data row2 col36\" >0.000000</td>\n",
       "                        <td id=\"T_0144e41b_5888_11eb_8ef7_001a7dda7113row2_col37\" class=\"data row2 col37\" >0.000000</td>\n",
       "                        <td id=\"T_0144e41b_5888_11eb_8ef7_001a7dda7113row2_col38\" class=\"data row2 col38\" >11_August_2007</td>\n",
       "                        <td id=\"T_0144e41b_5888_11eb_8ef7_001a7dda7113row2_col39\" class=\"data row2 col39\" >NFH</td>\n",
       "                        <td id=\"T_0144e41b_5888_11eb_8ef7_001a7dda7113row2_col40\" class=\"data row2 col40\" >CrossProject</td>\n",
       "                        <td id=\"T_0144e41b_5888_11eb_8ef7_001a7dda7113row2_col41\" class=\"data row2 col41\" >1304</td>\n",
       "                        <td id=\"T_0144e41b_5888_11eb_8ef7_001a7dda7113row2_col42\" class=\"data row2 col42\" >Salary Report</td>\n",
       "                        <td id=\"T_0144e41b_5888_11eb_8ef7_001a7dda7113row2_col43\" class=\"data row2 col43\" >None</td>\n",
       "                        <td id=\"T_0144e41b_5888_11eb_8ef7_001a7dda7113row2_col44\" class=\"data row2 col44\" >None</td>\n",
       "                        <td id=\"T_0144e41b_5888_11eb_8ef7_001a7dda7113row2_col45\" class=\"data row2 col45\" >None</td>\n",
       "                        <td id=\"T_0144e41b_5888_11eb_8ef7_001a7dda7113row2_col46\" class=\"data row2 col46\" >None</td>\n",
       "                        <td id=\"T_0144e41b_5888_11eb_8ef7_001a7dda7113row2_col47\" class=\"data row2 col47\" >None</td>\n",
       "                        <td id=\"T_0144e41b_5888_11eb_8ef7_001a7dda7113row2_col48\" class=\"data row2 col48\" >None</td>\n",
       "                        <td id=\"T_0144e41b_5888_11eb_8ef7_001a7dda7113row2_col49\" class=\"data row2 col49\" >None</td>\n",
       "                        <td id=\"T_0144e41b_5888_11eb_8ef7_001a7dda7113row2_col50\" class=\"data row2 col50\" >None</td>\n",
       "                        <td id=\"T_0144e41b_5888_11eb_8ef7_001a7dda7113row2_col51\" class=\"data row2 col51\" >None</td>\n",
       "                        <td id=\"T_0144e41b_5888_11eb_8ef7_001a7dda7113row2_col52\" class=\"data row2 col52\" >None</td>\n",
       "                        <td id=\"T_0144e41b_5888_11eb_8ef7_001a7dda7113row2_col53\" class=\"data row2 col53\" >None</td>\n",
       "                        <td id=\"T_0144e41b_5888_11eb_8ef7_001a7dda7113row2_col54\" class=\"data row2 col54\" >None</td>\n",
       "                        <td id=\"T_0144e41b_5888_11eb_8ef7_001a7dda7113row2_col55\" class=\"data row2 col55\" >2020_08</td>\n",
       "                        <td id=\"T_0144e41b_5888_11eb_8ef7_001a7dda7113row2_col56\" class=\"data row2 col56\" >None</td>\n",
       "                        <td id=\"T_0144e41b_5888_11eb_8ef7_001a7dda7113row2_col57\" class=\"data row2 col57\" >None</td>\n",
       "                        <td id=\"T_0144e41b_5888_11eb_8ef7_001a7dda7113row2_col58\" class=\"data row2 col58\" >None</td>\n",
       "                        <td id=\"T_0144e41b_5888_11eb_8ef7_001a7dda7113row2_col59\" class=\"data row2 col59\" >None</td>\n",
       "                        <td id=\"T_0144e41b_5888_11eb_8ef7_001a7dda7113row2_col60\" class=\"data row2 col60\" >None</td>\n",
       "                        <td id=\"T_0144e41b_5888_11eb_8ef7_001a7dda7113row2_col61\" class=\"data row2 col61\" >None</td>\n",
       "                        <td id=\"T_0144e41b_5888_11eb_8ef7_001a7dda7113row2_col62\" class=\"data row2 col62\" >None</td>\n",
       "                        <td id=\"T_0144e41b_5888_11eb_8ef7_001a7dda7113row2_col63\" class=\"data row2 col63\" >None</td>\n",
       "                        <td id=\"T_0144e41b_5888_11eb_8ef7_001a7dda7113row2_col64\" class=\"data row2 col64\" >None</td>\n",
       "                        <td id=\"T_0144e41b_5888_11eb_8ef7_001a7dda7113row2_col65\" class=\"data row2 col65\" >None</td>\n",
       "                        <td id=\"T_0144e41b_5888_11eb_8ef7_001a7dda7113row2_col66\" class=\"data row2 col66\" >None</td>\n",
       "                        <td id=\"T_0144e41b_5888_11eb_8ef7_001a7dda7113row2_col67\" class=\"data row2 col67\" >None</td>\n",
       "                        <td id=\"T_0144e41b_5888_11eb_8ef7_001a7dda7113row2_col68\" class=\"data row2 col68\" >None</td>\n",
       "                        <td id=\"T_0144e41b_5888_11eb_8ef7_001a7dda7113row2_col69\" class=\"data row2 col69\" >None</td>\n",
       "                        <td id=\"T_0144e41b_5888_11eb_8ef7_001a7dda7113row2_col70\" class=\"data row2 col70\" >None</td>\n",
       "            </tr>\n",
       "            <tr>\n",
       "                        <th id=\"T_0144e41b_5888_11eb_8ef7_001a7dda7113level0_row3\" class=\"row_heading level0 row3\" >3</th>\n",
       "                        <td id=\"T_0144e41b_5888_11eb_8ef7_001a7dda7113row3_col0\" class=\"data row3 col0\" >3468</td>\n",
       "                        <td id=\"T_0144e41b_5888_11eb_8ef7_001a7dda7113row3_col1\" class=\"data row3 col1\" >md joynal abedin</td>\n",
       "                        <td id=\"T_0144e41b_5888_11eb_8ef7_001a7dda7113row3_col2\" class=\"data row3 col2\" >office assistant</td>\n",
       "                        <td id=\"T_0144e41b_5888_11eb_8ef7_001a7dda7113row3_col3\" class=\"data row3 col3\" >2007-11-01</td>\n",
       "                        <td id=\"T_0144e41b_5888_11eb_8ef7_001a7dda7113row3_col4\" class=\"data row3 col4\" >3.000000</td>\n",
       "                        <td id=\"T_0144e41b_5888_11eb_8ef7_001a7dda7113row3_col5\" class=\"data row3 col5\" >20.000000</td>\n",
       "                        <td id=\"T_0144e41b_5888_11eb_8ef7_001a7dda7113row3_col6\" class=\"data row3 col6\" >0.000000</td>\n",
       "                        <td id=\"T_0144e41b_5888_11eb_8ef7_001a7dda7113row3_col7\" class=\"data row3 col7\" >8</td>\n",
       "                        <td id=\"T_0144e41b_5888_11eb_8ef7_001a7dda7113row3_col8\" class=\"data row3 col8\" >3.000000</td>\n",
       "                        <td id=\"T_0144e41b_5888_11eb_8ef7_001a7dda7113row3_col9\" class=\"data row3 col9\" >31.000000</td>\n",
       "                        <td id=\"T_0144e41b_5888_11eb_8ef7_001a7dda7113row3_col10\" class=\"data row3 col10\" >25402.000000</td>\n",
       "                        <td id=\"T_0144e41b_5888_11eb_8ef7_001a7dda7113row3_col11\" class=\"data row3 col11\" >15701.000000</td>\n",
       "                        <td id=\"T_0144e41b_5888_11eb_8ef7_001a7dda7113row3_col12\" class=\"data row3 col12\" >7851.000000</td>\n",
       "                        <td id=\"T_0144e41b_5888_11eb_8ef7_001a7dda7113row3_col13\" class=\"data row3 col13\" >600.000000</td>\n",
       "                        <td id=\"T_0144e41b_5888_11eb_8ef7_001a7dda7113row3_col14\" class=\"data row3 col14\" >350.000000</td>\n",
       "                        <td id=\"T_0144e41b_5888_11eb_8ef7_001a7dda7113row3_col15\" class=\"data row3 col15\" >900.000000</td>\n",
       "                        <td id=\"T_0144e41b_5888_11eb_8ef7_001a7dda7113row3_col16\" class=\"data row3 col16\" >0.000000</td>\n",
       "                        <td id=\"T_0144e41b_5888_11eb_8ef7_001a7dda7113row3_col17\" class=\"data row3 col17\" >0.000000</td>\n",
       "                        <td id=\"T_0144e41b_5888_11eb_8ef7_001a7dda7113row3_col18\" class=\"data row3 col18\" >150.970000</td>\n",
       "                        <td id=\"T_0144e41b_5888_11eb_8ef7_001a7dda7113row3_col19\" class=\"data row3 col19\" >0.000000</td>\n",
       "                        <td id=\"T_0144e41b_5888_11eb_8ef7_001a7dda7113row3_col20\" class=\"data row3 col20\" >0.000000</td>\n",
       "                        <td id=\"T_0144e41b_5888_11eb_8ef7_001a7dda7113row3_col21\" class=\"data row3 col21\" >0.000000</td>\n",
       "                        <td id=\"T_0144e41b_5888_11eb_8ef7_001a7dda7113row3_col22\" class=\"data row3 col22\" >785.000000</td>\n",
       "                        <td id=\"T_0144e41b_5888_11eb_8ef7_001a7dda7113row3_col23\" class=\"data row3 col23\" >0.000000</td>\n",
       "                        <td id=\"T_0144e41b_5888_11eb_8ef7_001a7dda7113row3_col24\" class=\"data row3 col24\" >0.000000</td>\n",
       "                        <td id=\"T_0144e41b_5888_11eb_8ef7_001a7dda7113row3_col25\" class=\"data row3 col25\" >0.000000</td>\n",
       "                        <td id=\"T_0144e41b_5888_11eb_8ef7_001a7dda7113row3_col26\" class=\"data row3 col26\" >0.000000</td>\n",
       "                        <td id=\"T_0144e41b_5888_11eb_8ef7_001a7dda7113row3_col27\" class=\"data row3 col27\" >790.000000</td>\n",
       "                        <td id=\"T_0144e41b_5888_11eb_8ef7_001a7dda7113row3_col28\" class=\"data row3 col28\" >24612.000000</td>\n",
       "                        <td id=\"T_0144e41b_5888_11eb_8ef7_001a7dda7113row3_col29\" class=\"data row3 col29\" >administration</td>\n",
       "                        <td id=\"T_0144e41b_5888_11eb_8ef7_001a7dda7113row3_col30\" class=\"data row3 col30\" >august_2020</td>\n",
       "                        <td id=\"T_0144e41b_5888_11eb_8ef7_001a7dda7113row3_col31\" class=\"data row3 col31\" >None</td>\n",
       "                        <td id=\"T_0144e41b_5888_11eb_8ef7_001a7dda7113row3_col32\" class=\"data row3 col32\" >admin</td>\n",
       "                        <td id=\"T_0144e41b_5888_11eb_8ef7_001a7dda7113row3_col33\" class=\"data row3 col33\" >None</td>\n",
       "                        <td id=\"T_0144e41b_5888_11eb_8ef7_001a7dda7113row3_col34\" class=\"data row3 col34\" >5.000000</td>\n",
       "                        <td id=\"T_0144e41b_5888_11eb_8ef7_001a7dda7113row3_col35\" class=\"data row3 col35\" >0.000000</td>\n",
       "                        <td id=\"T_0144e41b_5888_11eb_8ef7_001a7dda7113row3_col36\" class=\"data row3 col36\" >0.000000</td>\n",
       "                        <td id=\"T_0144e41b_5888_11eb_8ef7_001a7dda7113row3_col37\" class=\"data row3 col37\" >0.000000</td>\n",
       "                        <td id=\"T_0144e41b_5888_11eb_8ef7_001a7dda7113row3_col38\" class=\"data row3 col38\" >01_November_2007</td>\n",
       "                        <td id=\"T_0144e41b_5888_11eb_8ef7_001a7dda7113row3_col39\" class=\"data row3 col39\" >NFH</td>\n",
       "                        <td id=\"T_0144e41b_5888_11eb_8ef7_001a7dda7113row3_col40\" class=\"data row3 col40\" >CrossProject</td>\n",
       "                        <td id=\"T_0144e41b_5888_11eb_8ef7_001a7dda7113row3_col41\" class=\"data row3 col41\" >1304</td>\n",
       "                        <td id=\"T_0144e41b_5888_11eb_8ef7_001a7dda7113row3_col42\" class=\"data row3 col42\" >Salary Report</td>\n",
       "                        <td id=\"T_0144e41b_5888_11eb_8ef7_001a7dda7113row3_col43\" class=\"data row3 col43\" >None</td>\n",
       "                        <td id=\"T_0144e41b_5888_11eb_8ef7_001a7dda7113row3_col44\" class=\"data row3 col44\" >None</td>\n",
       "                        <td id=\"T_0144e41b_5888_11eb_8ef7_001a7dda7113row3_col45\" class=\"data row3 col45\" >None</td>\n",
       "                        <td id=\"T_0144e41b_5888_11eb_8ef7_001a7dda7113row3_col46\" class=\"data row3 col46\" >None</td>\n",
       "                        <td id=\"T_0144e41b_5888_11eb_8ef7_001a7dda7113row3_col47\" class=\"data row3 col47\" >None</td>\n",
       "                        <td id=\"T_0144e41b_5888_11eb_8ef7_001a7dda7113row3_col48\" class=\"data row3 col48\" >None</td>\n",
       "                        <td id=\"T_0144e41b_5888_11eb_8ef7_001a7dda7113row3_col49\" class=\"data row3 col49\" >None</td>\n",
       "                        <td id=\"T_0144e41b_5888_11eb_8ef7_001a7dda7113row3_col50\" class=\"data row3 col50\" >None</td>\n",
       "                        <td id=\"T_0144e41b_5888_11eb_8ef7_001a7dda7113row3_col51\" class=\"data row3 col51\" >None</td>\n",
       "                        <td id=\"T_0144e41b_5888_11eb_8ef7_001a7dda7113row3_col52\" class=\"data row3 col52\" >None</td>\n",
       "                        <td id=\"T_0144e41b_5888_11eb_8ef7_001a7dda7113row3_col53\" class=\"data row3 col53\" >None</td>\n",
       "                        <td id=\"T_0144e41b_5888_11eb_8ef7_001a7dda7113row3_col54\" class=\"data row3 col54\" >None</td>\n",
       "                        <td id=\"T_0144e41b_5888_11eb_8ef7_001a7dda7113row3_col55\" class=\"data row3 col55\" >2020_08</td>\n",
       "                        <td id=\"T_0144e41b_5888_11eb_8ef7_001a7dda7113row3_col56\" class=\"data row3 col56\" >None</td>\n",
       "                        <td id=\"T_0144e41b_5888_11eb_8ef7_001a7dda7113row3_col57\" class=\"data row3 col57\" >None</td>\n",
       "                        <td id=\"T_0144e41b_5888_11eb_8ef7_001a7dda7113row3_col58\" class=\"data row3 col58\" >None</td>\n",
       "                        <td id=\"T_0144e41b_5888_11eb_8ef7_001a7dda7113row3_col59\" class=\"data row3 col59\" >None</td>\n",
       "                        <td id=\"T_0144e41b_5888_11eb_8ef7_001a7dda7113row3_col60\" class=\"data row3 col60\" >None</td>\n",
       "                        <td id=\"T_0144e41b_5888_11eb_8ef7_001a7dda7113row3_col61\" class=\"data row3 col61\" >None</td>\n",
       "                        <td id=\"T_0144e41b_5888_11eb_8ef7_001a7dda7113row3_col62\" class=\"data row3 col62\" >None</td>\n",
       "                        <td id=\"T_0144e41b_5888_11eb_8ef7_001a7dda7113row3_col63\" class=\"data row3 col63\" >None</td>\n",
       "                        <td id=\"T_0144e41b_5888_11eb_8ef7_001a7dda7113row3_col64\" class=\"data row3 col64\" >None</td>\n",
       "                        <td id=\"T_0144e41b_5888_11eb_8ef7_001a7dda7113row3_col65\" class=\"data row3 col65\" >None</td>\n",
       "                        <td id=\"T_0144e41b_5888_11eb_8ef7_001a7dda7113row3_col66\" class=\"data row3 col66\" >None</td>\n",
       "                        <td id=\"T_0144e41b_5888_11eb_8ef7_001a7dda7113row3_col67\" class=\"data row3 col67\" >None</td>\n",
       "                        <td id=\"T_0144e41b_5888_11eb_8ef7_001a7dda7113row3_col68\" class=\"data row3 col68\" >None</td>\n",
       "                        <td id=\"T_0144e41b_5888_11eb_8ef7_001a7dda7113row3_col69\" class=\"data row3 col69\" >None</td>\n",
       "                        <td id=\"T_0144e41b_5888_11eb_8ef7_001a7dda7113row3_col70\" class=\"data row3 col70\" >None</td>\n",
       "            </tr>\n",
       "            <tr>\n",
       "                        <th id=\"T_0144e41b_5888_11eb_8ef7_001a7dda7113level0_row4\" class=\"row_heading level0 row4\" >4</th>\n",
       "                        <td id=\"T_0144e41b_5888_11eb_8ef7_001a7dda7113row4_col0\" class=\"data row4 col0\" >5233</td>\n",
       "                        <td id=\"T_0144e41b_5888_11eb_8ef7_001a7dda7113row4_col1\" class=\"data row4 col1\" >mohibulla titu</td>\n",
       "                        <td id=\"T_0144e41b_5888_11eb_8ef7_001a7dda7113row4_col2\" class=\"data row4 col2\" >office attendant</td>\n",
       "                        <td id=\"T_0144e41b_5888_11eb_8ef7_001a7dda7113row4_col3\" class=\"data row4 col3\" >2008-07-01</td>\n",
       "                        <td id=\"T_0144e41b_5888_11eb_8ef7_001a7dda7113row4_col4\" class=\"data row4 col4\" >4.000000</td>\n",
       "                        <td id=\"T_0144e41b_5888_11eb_8ef7_001a7dda7113row4_col5\" class=\"data row4 col5\" >23.000000</td>\n",
       "                        <td id=\"T_0144e41b_5888_11eb_8ef7_001a7dda7113row4_col6\" class=\"data row4 col6\" >0.000000</td>\n",
       "                        <td id=\"T_0144e41b_5888_11eb_8ef7_001a7dda7113row4_col7\" class=\"data row4 col7\" >8</td>\n",
       "                        <td id=\"T_0144e41b_5888_11eb_8ef7_001a7dda7113row4_col8\" class=\"data row4 col8\" >0.000000</td>\n",
       "                        <td id=\"T_0144e41b_5888_11eb_8ef7_001a7dda7113row4_col9\" class=\"data row4 col9\" >31.000000</td>\n",
       "                        <td id=\"T_0144e41b_5888_11eb_8ef7_001a7dda7113row4_col10\" class=\"data row4 col10\" >17799.000000</td>\n",
       "                        <td id=\"T_0144e41b_5888_11eb_8ef7_001a7dda7113row4_col11\" class=\"data row4 col11\" >10633.000000</td>\n",
       "                        <td id=\"T_0144e41b_5888_11eb_8ef7_001a7dda7113row4_col12\" class=\"data row4 col12\" >5316.000000</td>\n",
       "                        <td id=\"T_0144e41b_5888_11eb_8ef7_001a7dda7113row4_col13\" class=\"data row4 col13\" >600.000000</td>\n",
       "                        <td id=\"T_0144e41b_5888_11eb_8ef7_001a7dda7113row4_col14\" class=\"data row4 col14\" >350.000000</td>\n",
       "                        <td id=\"T_0144e41b_5888_11eb_8ef7_001a7dda7113row4_col15\" class=\"data row4 col15\" >900.000000</td>\n",
       "                        <td id=\"T_0144e41b_5888_11eb_8ef7_001a7dda7113row4_col16\" class=\"data row4 col16\" >0.000000</td>\n",
       "                        <td id=\"T_0144e41b_5888_11eb_8ef7_001a7dda7113row4_col17\" class=\"data row4 col17\" >34.000000</td>\n",
       "                        <td id=\"T_0144e41b_5888_11eb_8ef7_001a7dda7113row4_col18\" class=\"data row4 col18\" >102.240000</td>\n",
       "                        <td id=\"T_0144e41b_5888_11eb_8ef7_001a7dda7113row4_col19\" class=\"data row4 col19\" >3476.000000</td>\n",
       "                        <td id=\"T_0144e41b_5888_11eb_8ef7_001a7dda7113row4_col20\" class=\"data row4 col20\" >0.000000</td>\n",
       "                        <td id=\"T_0144e41b_5888_11eb_8ef7_001a7dda7113row4_col21\" class=\"data row4 col21\" >0.000000</td>\n",
       "                        <td id=\"T_0144e41b_5888_11eb_8ef7_001a7dda7113row4_col22\" class=\"data row4 col22\" >532.000000</td>\n",
       "                        <td id=\"T_0144e41b_5888_11eb_8ef7_001a7dda7113row4_col23\" class=\"data row4 col23\" >0.000000</td>\n",
       "                        <td id=\"T_0144e41b_5888_11eb_8ef7_001a7dda7113row4_col24\" class=\"data row4 col24\" >0.000000</td>\n",
       "                        <td id=\"T_0144e41b_5888_11eb_8ef7_001a7dda7113row4_col25\" class=\"data row4 col25\" >0.000000</td>\n",
       "                        <td id=\"T_0144e41b_5888_11eb_8ef7_001a7dda7113row4_col26\" class=\"data row4 col26\" >15000.000000</td>\n",
       "                        <td id=\"T_0144e41b_5888_11eb_8ef7_001a7dda7113row4_col27\" class=\"data row4 col27\" >15537.000000</td>\n",
       "                        <td id=\"T_0144e41b_5888_11eb_8ef7_001a7dda7113row4_col28\" class=\"data row4 col28\" >5738.000000</td>\n",
       "                        <td id=\"T_0144e41b_5888_11eb_8ef7_001a7dda7113row4_col29\" class=\"data row4 col29\" >administration</td>\n",
       "                        <td id=\"T_0144e41b_5888_11eb_8ef7_001a7dda7113row4_col30\" class=\"data row4 col30\" >august_2020</td>\n",
       "                        <td id=\"T_0144e41b_5888_11eb_8ef7_001a7dda7113row4_col31\" class=\"data row4 col31\" >None</td>\n",
       "                        <td id=\"T_0144e41b_5888_11eb_8ef7_001a7dda7113row4_col32\" class=\"data row4 col32\" >admin</td>\n",
       "                        <td id=\"T_0144e41b_5888_11eb_8ef7_001a7dda7113row4_col33\" class=\"data row4 col33\" >None</td>\n",
       "                        <td id=\"T_0144e41b_5888_11eb_8ef7_001a7dda7113row4_col34\" class=\"data row4 col34\" >5.000000</td>\n",
       "                        <td id=\"T_0144e41b_5888_11eb_8ef7_001a7dda7113row4_col35\" class=\"data row4 col35\" >30.000000</td>\n",
       "                        <td id=\"T_0144e41b_5888_11eb_8ef7_001a7dda7113row4_col36\" class=\"data row4 col36\" >102.240000</td>\n",
       "                        <td id=\"T_0144e41b_5888_11eb_8ef7_001a7dda7113row4_col37\" class=\"data row4 col37\" >3067.000000</td>\n",
       "                        <td id=\"T_0144e41b_5888_11eb_8ef7_001a7dda7113row4_col38\" class=\"data row4 col38\" >01_July_2008</td>\n",
       "                        <td id=\"T_0144e41b_5888_11eb_8ef7_001a7dda7113row4_col39\" class=\"data row4 col39\" >NFH</td>\n",
       "                        <td id=\"T_0144e41b_5888_11eb_8ef7_001a7dda7113row4_col40\" class=\"data row4 col40\" >CrossProject</td>\n",
       "                        <td id=\"T_0144e41b_5888_11eb_8ef7_001a7dda7113row4_col41\" class=\"data row4 col41\" >1304</td>\n",
       "                        <td id=\"T_0144e41b_5888_11eb_8ef7_001a7dda7113row4_col42\" class=\"data row4 col42\" >Salary Report</td>\n",
       "                        <td id=\"T_0144e41b_5888_11eb_8ef7_001a7dda7113row4_col43\" class=\"data row4 col43\" >None</td>\n",
       "                        <td id=\"T_0144e41b_5888_11eb_8ef7_001a7dda7113row4_col44\" class=\"data row4 col44\" >None</td>\n",
       "                        <td id=\"T_0144e41b_5888_11eb_8ef7_001a7dda7113row4_col45\" class=\"data row4 col45\" >None</td>\n",
       "                        <td id=\"T_0144e41b_5888_11eb_8ef7_001a7dda7113row4_col46\" class=\"data row4 col46\" >None</td>\n",
       "                        <td id=\"T_0144e41b_5888_11eb_8ef7_001a7dda7113row4_col47\" class=\"data row4 col47\" >None</td>\n",
       "                        <td id=\"T_0144e41b_5888_11eb_8ef7_001a7dda7113row4_col48\" class=\"data row4 col48\" >None</td>\n",
       "                        <td id=\"T_0144e41b_5888_11eb_8ef7_001a7dda7113row4_col49\" class=\"data row4 col49\" >None</td>\n",
       "                        <td id=\"T_0144e41b_5888_11eb_8ef7_001a7dda7113row4_col50\" class=\"data row4 col50\" >None</td>\n",
       "                        <td id=\"T_0144e41b_5888_11eb_8ef7_001a7dda7113row4_col51\" class=\"data row4 col51\" >None</td>\n",
       "                        <td id=\"T_0144e41b_5888_11eb_8ef7_001a7dda7113row4_col52\" class=\"data row4 col52\" >None</td>\n",
       "                        <td id=\"T_0144e41b_5888_11eb_8ef7_001a7dda7113row4_col53\" class=\"data row4 col53\" >None</td>\n",
       "                        <td id=\"T_0144e41b_5888_11eb_8ef7_001a7dda7113row4_col54\" class=\"data row4 col54\" >None</td>\n",
       "                        <td id=\"T_0144e41b_5888_11eb_8ef7_001a7dda7113row4_col55\" class=\"data row4 col55\" >2020_08</td>\n",
       "                        <td id=\"T_0144e41b_5888_11eb_8ef7_001a7dda7113row4_col56\" class=\"data row4 col56\" >None</td>\n",
       "                        <td id=\"T_0144e41b_5888_11eb_8ef7_001a7dda7113row4_col57\" class=\"data row4 col57\" >None</td>\n",
       "                        <td id=\"T_0144e41b_5888_11eb_8ef7_001a7dda7113row4_col58\" class=\"data row4 col58\" >None</td>\n",
       "                        <td id=\"T_0144e41b_5888_11eb_8ef7_001a7dda7113row4_col59\" class=\"data row4 col59\" >None</td>\n",
       "                        <td id=\"T_0144e41b_5888_11eb_8ef7_001a7dda7113row4_col60\" class=\"data row4 col60\" >None</td>\n",
       "                        <td id=\"T_0144e41b_5888_11eb_8ef7_001a7dda7113row4_col61\" class=\"data row4 col61\" >None</td>\n",
       "                        <td id=\"T_0144e41b_5888_11eb_8ef7_001a7dda7113row4_col62\" class=\"data row4 col62\" >None</td>\n",
       "                        <td id=\"T_0144e41b_5888_11eb_8ef7_001a7dda7113row4_col63\" class=\"data row4 col63\" >None</td>\n",
       "                        <td id=\"T_0144e41b_5888_11eb_8ef7_001a7dda7113row4_col64\" class=\"data row4 col64\" >None</td>\n",
       "                        <td id=\"T_0144e41b_5888_11eb_8ef7_001a7dda7113row4_col65\" class=\"data row4 col65\" >None</td>\n",
       "                        <td id=\"T_0144e41b_5888_11eb_8ef7_001a7dda7113row4_col66\" class=\"data row4 col66\" >None</td>\n",
       "                        <td id=\"T_0144e41b_5888_11eb_8ef7_001a7dda7113row4_col67\" class=\"data row4 col67\" >None</td>\n",
       "                        <td id=\"T_0144e41b_5888_11eb_8ef7_001a7dda7113row4_col68\" class=\"data row4 col68\" >None</td>\n",
       "                        <td id=\"T_0144e41b_5888_11eb_8ef7_001a7dda7113row4_col69\" class=\"data row4 col69\" >None</td>\n",
       "                        <td id=\"T_0144e41b_5888_11eb_8ef7_001a7dda7113row4_col70\" class=\"data row4 col70\" >None</td>\n",
       "            </tr>\n",
       "    </tbody></table>"
      ],
      "text/plain": [
       "<pandas.io.formats.style.Styler at 0x2493c1f0af0>"
      ]
     },
     "execution_count": 34,
     "metadata": {},
     "output_type": "execute_result"
    }
   ],
   "source": [
    "data.head().style"
   ]
  },
  {
   "cell_type": "code",
   "execution_count": 35,
   "metadata": {},
   "outputs": [
    {
     "data": {
      "text/plain": [
       "137130"
      ]
     },
     "execution_count": 35,
     "metadata": {},
     "output_type": "execute_result"
    }
   ],
   "source": [
    "len(data)"
   ]
  },
  {
   "cell_type": "code",
   "execution_count": null,
   "metadata": {},
   "outputs": [],
   "source": []
  },
  {
   "cell_type": "code",
   "execution_count": 38,
   "metadata": {},
   "outputs": [],
   "source": [
    "# Connect to the database\n",
    "connection = pymysql.connect(host='earth.mydchub.com',\n",
    "                             user='rmgppcom_mrr',\n",
    "                             password='IP@MRR#1T',\n",
    "                             db='rmgppcom_db')"
   ]
  },
  {
   "cell_type": "code",
   "execution_count": 39,
   "metadata": {},
   "outputs": [],
   "source": [
    "cursor = connection.cursor()"
   ]
  },
  {
   "cell_type": "code",
   "execution_count": 40,
   "metadata": {},
   "outputs": [
    {
     "name": "stderr",
     "output_type": "stream",
     "text": [
      "137130it [15:12, 150.26it/s]\n"
     ]
    }
   ],
   "source": [
    "# creating column list for insertion\n",
    "cols = \"`,`\".join([str(i) for i in data.columns.tolist()])\n",
    "\n",
    "# Insert DataFrame recrds one by one.\n",
    "for i,row in tqdm(data.iterrows()):\n",
    "    sql = \"INSERT INTO `salary` (`\" +cols + \"`) VALUES (\" + \"%s,\"*(len(row)-1) + \"%s)\"\n",
    "    cursor.execute(sql, tuple(row))\n",
    "\n",
    "    # the connection is not autocommitted by default, so we must commit to save our changes\n",
    "    connection.commit()"
   ]
  },
  {
   "cell_type": "code",
   "execution_count": 41,
   "metadata": {},
   "outputs": [
    {
     "data": {
      "text/plain": [
       "137130"
      ]
     },
     "execution_count": 41,
     "metadata": {},
     "output_type": "execute_result"
    }
   ],
   "source": [
    "len(data)"
   ]
  },
  {
   "cell_type": "code",
   "execution_count": null,
   "metadata": {},
   "outputs": [],
   "source": []
  },
  {
   "cell_type": "code",
   "execution_count": 42,
   "metadata": {},
   "outputs": [],
   "source": [
    "connection.close()"
   ]
  },
  {
   "cell_type": "code",
   "execution_count": 43,
   "metadata": {},
   "outputs": [
    {
     "name": "stdout",
     "output_type": "stream",
     "text": [
      "DONE\n"
     ]
    }
   ],
   "source": [
    "print (\"DONE\")"
   ]
  }
 ],
 "metadata": {
  "kernelspec": {
   "display_name": "Python 3 (ipykernel)",
   "language": "python",
   "name": "python3"
  },
  "language_info": {
   "codemirror_mode": {
    "name": "ipython",
    "version": 3
   },
   "file_extension": ".py",
   "mimetype": "text/x-python",
   "name": "python",
   "nbconvert_exporter": "python",
   "pygments_lexer": "ipython3",
   "version": "3.9.7"
  }
 },
 "nbformat": 4,
 "nbformat_minor": 2
}
