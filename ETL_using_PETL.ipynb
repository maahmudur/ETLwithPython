{
 "cells": [
  {
   "cell_type": "markdown",
   "metadata": {},
   "source": [
    "### TODO\n",
    "* Collect exchange rates from bank of canada's api.\n",
    "* Upload expenses which is in excel format.\n",
    "* Merge the datasets and then clean and harmonize. \n",
    "* Upload final dataset to a MySQL database table."
   ]
  },
  {
   "cell_type": "code",
   "execution_count": 1,
   "metadata": {},
   "outputs": [],
   "source": [
    "import requests\n",
    "import sys\n",
    "import json\n",
    "import datetime\n",
    "import decimal\n",
    "import petl\n",
    "import pymysql "
   ]
  },
  {
   "cell_type": "code",
   "execution_count": 2,
   "metadata": {},
   "outputs": [],
   "source": [
    "startDate = '2020-01-01'\n",
    "url = 'https://www.bankofcanada.ca/valet/observations/FXUSDCAD/json?start_date='"
   ]
  },
  {
   "cell_type": "code",
   "execution_count": 3,
   "metadata": {},
   "outputs": [],
   "source": [
    "# request data from URL\n",
    "try:\n",
    "    BOCResponse = requests.get(url+startDate)\n",
    "except Exception as e:\n",
    "    print('could not make request:' + str(e))\n",
    "    sys.exit()"
   ]
  },
  {
   "cell_type": "code",
   "execution_count": 4,
   "metadata": {},
   "outputs": [
    {
     "name": "stdout",
     "output_type": "stream",
     "text": [
      "<Response [200]>\n"
     ]
    }
   ],
   "source": [
    "# The HTTP 200 status response code indicates that the request has benn succeeded\n",
    "print (BOCResponse)"
   ]
  },
  {
   "cell_type": "code",
   "execution_count": 5,
   "metadata": {},
   "outputs": [
    {
     "name": "stdout",
     "output_type": "stream",
     "text": [
      "{\n",
      "    \"terms\": {\n",
      "        \"url\": \"https://www.bankofcanada.ca/terms/\"\n",
      "    },\n",
      "    \"seriesDetail\": {\n",
      "        \"FXUSDCAD\": {\n",
      "            \"label\": \"USD/CAD\",\n",
      "            \"description\": \"US dollar to Canadian dollar daily exchange rate\",\n",
      "            \"dimension\": {\n",
      "                \"key\": \"d\",\n",
      "                \"name\": \"date\"\n",
      "            }\n",
      "        }\n",
      "    },\n",
      "    \"observations\": [\n",
      "        {\n",
      "            \"d\": \"2020-01-02\",\n",
      "            \"FXUSDCAD\": {\n",
      "                \"v\": \"1.2992\"\n",
      "            }\n",
      "        },\n",
      "        {\n",
      "            \"d\": \"2020-01-03\",\n",
      "            \"FXUSDCAD\": {\n",
      "                \"v\": \"1.2988\"\n",
      "           \n"
     ]
    }
   ],
   "source": [
    "# let's take a look at some of the data that's coming to us live from the API, it should be in JSON format\n",
    "print(BOCResponse.text[:600])"
   ]
  },
  {
   "cell_type": "code",
   "execution_count": 6,
   "metadata": {},
   "outputs": [],
   "source": [
    "# initialize list of lists for data storage\n",
    "BOCDates = []\n",
    "BOCRates = []"
   ]
  },
  {
   "cell_type": "code",
   "execution_count": 7,
   "metadata": {},
   "outputs": [],
   "source": [
    "# check response status and process BOC JSON object\n",
    "if (BOCResponse.status_code == 200):\n",
    "    BOCRaw = json.loads(BOCResponse.text)"
   ]
  },
  {
   "cell_type": "code",
   "execution_count": 8,
   "metadata": {},
   "outputs": [],
   "source": [
    "# extract observation data into column arrays\n",
    "for row in BOCRaw['observations']:\n",
    "    BOCDates.append(datetime.datetime.strptime(row['d'],'%Y-%m-%d'))\n",
    "    BOCRates.append(decimal.Decimal(row['FXUSDCAD']['v']))"
   ]
  },
  {
   "cell_type": "code",
   "execution_count": 9,
   "metadata": {},
   "outputs": [
    {
     "data": {
      "text/plain": [
       "[datetime.datetime(2020, 1, 2, 0, 0),\n",
       " datetime.datetime(2020, 1, 3, 0, 0),\n",
       " datetime.datetime(2020, 1, 6, 0, 0),\n",
       " datetime.datetime(2020, 1, 7, 0, 0),\n",
       " datetime.datetime(2020, 1, 8, 0, 0)]"
      ]
     },
     "execution_count": 9,
     "metadata": {},
     "output_type": "execute_result"
    }
   ],
   "source": [
    "BOCDates[:5]"
   ]
  },
  {
   "cell_type": "code",
   "execution_count": 10,
   "metadata": {},
   "outputs": [
    {
     "data": {
      "text/plain": [
       "[Decimal('1.2992'),\n",
       " Decimal('1.2988'),\n",
       " Decimal('1.2970'),\n",
       " Decimal('1.3009'),\n",
       " Decimal('1.3026')]"
      ]
     },
     "execution_count": 10,
     "metadata": {},
     "output_type": "execute_result"
    }
   ],
   "source": [
    "BOCRates[:5]"
   ]
  },
  {
   "cell_type": "code",
   "execution_count": 11,
   "metadata": {},
   "outputs": [],
   "source": [
    "# create petl table from column arrays and rename the columns\n",
    "exchangeRates = petl.fromcolumns([BOCDates,BOCRates],header=['date','rate'])"
   ]
  },
  {
   "cell_type": "code",
   "execution_count": 12,
   "metadata": {},
   "outputs": [
    {
     "data": {
      "text/html": [
       "<table class='petl'>\n",
       "<thead>\n",
       "<tr>\n",
       "<th>date</th>\n",
       "<th>rate</th>\n",
       "</tr>\n",
       "</thead>\n",
       "<tbody>\n",
       "<tr>\n",
       "<td>2020-01-02 00:00:00</td>\n",
       "<td>1.2992</td>\n",
       "</tr>\n",
       "<tr>\n",
       "<td>2020-01-03 00:00:00</td>\n",
       "<td>1.2988</td>\n",
       "</tr>\n",
       "<tr>\n",
       "<td>2020-01-06 00:00:00</td>\n",
       "<td>1.2970</td>\n",
       "</tr>\n",
       "<tr>\n",
       "<td>2020-01-07 00:00:00</td>\n",
       "<td>1.3009</td>\n",
       "</tr>\n",
       "<tr>\n",
       "<td>2020-01-08 00:00:00</td>\n",
       "<td>1.3026</td>\n",
       "</tr>\n",
       "</tbody>\n",
       "</table>\n"
      ],
      "text/plain": [
       "+-------------------------------------+-------------------+\n",
       "| date                                | rate              |\n",
       "+=====================================+===================+\n",
       "| datetime.datetime(2020, 1, 2, 0, 0) | Decimal('1.2992') |\n",
       "+-------------------------------------+-------------------+\n",
       "| datetime.datetime(2020, 1, 3, 0, 0) | Decimal('1.2988') |\n",
       "+-------------------------------------+-------------------+\n",
       "| datetime.datetime(2020, 1, 6, 0, 0) | Decimal('1.2970') |\n",
       "+-------------------------------------+-------------------+\n",
       "| datetime.datetime(2020, 1, 7, 0, 0) | Decimal('1.3009') |\n",
       "+-------------------------------------+-------------------+\n",
       "| datetime.datetime(2020, 1, 8, 0, 0) | Decimal('1.3026') |\n",
       "+-------------------------------------+-------------------+"
      ]
     },
     "execution_count": 12,
     "metadata": {},
     "output_type": "execute_result"
    }
   ],
   "source": [
    "exchangeRates.head()"
   ]
  },
  {
   "cell_type": "code",
   "execution_count": 13,
   "metadata": {},
   "outputs": [],
   "source": [
    "# load expense document from local folder\n",
    "try:\n",
    "    expenses = petl.io.xlsx.fromxlsx('Expenses.xlsx',sheet='inUSD')\n",
    "except Exception as e:\n",
    "    print('could not open expenses.xlsx:' + str(e))\n",
    "    sys.exit()"
   ]
  },
  {
   "cell_type": "code",
   "execution_count": 14,
   "metadata": {},
   "outputs": [
    {
     "data": {
      "text/html": [
       "<table class='petl'>\n",
       "<thead>\n",
       "<tr>\n",
       "<th>date</th>\n",
       "<th>USD</th>\n",
       "</tr>\n",
       "</thead>\n",
       "<tbody>\n",
       "<tr>\n",
       "<td>2020-01-11 00:00:00</td>\n",
       "<td style='text-align: right'>25</td>\n",
       "</tr>\n",
       "<tr>\n",
       "<td>2020-01-30 00:00:00</td>\n",
       "<td style='text-align: right'>7</td>\n",
       "</tr>\n",
       "<tr>\n",
       "<td>2020-02-11 00:00:00</td>\n",
       "<td style='text-align: right'>25</td>\n",
       "</tr>\n",
       "<tr>\n",
       "<td>2020-02-28 00:00:00</td>\n",
       "<td style='text-align: right'>7</td>\n",
       "</tr>\n",
       "<tr>\n",
       "<td>2020-03-11 00:00:00</td>\n",
       "<td style='text-align: right'>25</td>\n",
       "</tr>\n",
       "</tbody>\n",
       "</table>\n"
      ],
      "text/plain": [
       "+--------------------------------------+-----+\n",
       "| date                                 | USD |\n",
       "+======================================+=====+\n",
       "| datetime.datetime(2020, 1, 11, 0, 0) |  25 |\n",
       "+--------------------------------------+-----+\n",
       "| datetime.datetime(2020, 1, 30, 0, 0) |   7 |\n",
       "+--------------------------------------+-----+\n",
       "| datetime.datetime(2020, 2, 11, 0, 0) |  25 |\n",
       "+--------------------------------------+-----+\n",
       "| datetime.datetime(2020, 2, 28, 0, 0) |   7 |\n",
       "+--------------------------------------+-----+\n",
       "| datetime.datetime(2020, 3, 11, 0, 0) |  25 |\n",
       "+--------------------------------------+-----+"
      ]
     },
     "execution_count": 14,
     "metadata": {},
     "output_type": "execute_result"
    }
   ],
   "source": [
    "expenses.head()"
   ]
  },
  {
   "cell_type": "code",
   "execution_count": 15,
   "metadata": {},
   "outputs": [],
   "source": [
    "# join tables with outer join to have every observation from both tables\n",
    "expenses_ds = petl.outerjoin(exchangeRates,expenses,key='date')"
   ]
  },
  {
   "cell_type": "code",
   "execution_count": 16,
   "metadata": {},
   "outputs": [
    {
     "data": {
      "text/html": [
       "<table class='petl'>\n",
       "<thead>\n",
       "<tr>\n",
       "<th>date</th>\n",
       "<th>rate</th>\n",
       "<th>USD</th>\n",
       "</tr>\n",
       "</thead>\n",
       "<tbody>\n",
       "<tr>\n",
       "<td>2020-01-02 00:00:00</td>\n",
       "<td>1.2992</td>\n",
       "<td>None</td>\n",
       "</tr>\n",
       "<tr>\n",
       "<td>2020-01-03 00:00:00</td>\n",
       "<td>1.2988</td>\n",
       "<td>None</td>\n",
       "</tr>\n",
       "<tr>\n",
       "<td>2020-01-06 00:00:00</td>\n",
       "<td>1.2970</td>\n",
       "<td>None</td>\n",
       "</tr>\n",
       "<tr>\n",
       "<td>2020-01-07 00:00:00</td>\n",
       "<td>1.3009</td>\n",
       "<td>None</td>\n",
       "</tr>\n",
       "<tr>\n",
       "<td>2020-01-08 00:00:00</td>\n",
       "<td>1.3026</td>\n",
       "<td>None</td>\n",
       "</tr>\n",
       "</tbody>\n",
       "</table>\n"
      ],
      "text/plain": [
       "+-------------------------------------+-------------------+------+\n",
       "| date                                | rate              | USD  |\n",
       "+=====================================+===================+======+\n",
       "| datetime.datetime(2020, 1, 2, 0, 0) | Decimal('1.2992') | None |\n",
       "+-------------------------------------+-------------------+------+\n",
       "| datetime.datetime(2020, 1, 3, 0, 0) | Decimal('1.2988') | None |\n",
       "+-------------------------------------+-------------------+------+\n",
       "| datetime.datetime(2020, 1, 6, 0, 0) | Decimal('1.2970') | None |\n",
       "+-------------------------------------+-------------------+------+\n",
       "| datetime.datetime(2020, 1, 7, 0, 0) | Decimal('1.3009') | None |\n",
       "+-------------------------------------+-------------------+------+\n",
       "| datetime.datetime(2020, 1, 8, 0, 0) | Decimal('1.3026') | None |\n",
       "+-------------------------------------+-------------------+------+"
      ]
     },
     "execution_count": 16,
     "metadata": {},
     "output_type": "execute_result"
    }
   ],
   "source": [
    "expenses_ds.head()"
   ]
  },
  {
   "cell_type": "code",
   "execution_count": 17,
   "metadata": {},
   "outputs": [],
   "source": [
    "# fill down missing values, since expenses are daily but there are not rates for weekends\n",
    "expenses_ds = petl.filldown(expenses_ds,'rate')"
   ]
  },
  {
   "cell_type": "code",
   "execution_count": 18,
   "metadata": {},
   "outputs": [],
   "source": [
    "# remove dates with no expenses, we don't need those observations in the final dataset\n",
    "expenses_ds = petl.select(expenses_ds,lambda rec: rec.USD != None)"
   ]
  },
  {
   "cell_type": "code",
   "execution_count": 19,
   "metadata": {},
   "outputs": [
    {
     "data": {
      "text/html": [
       "<table class='petl'>\n",
       "<thead>\n",
       "<tr>\n",
       "<th>date</th>\n",
       "<th>rate</th>\n",
       "<th>USD</th>\n",
       "</tr>\n",
       "</thead>\n",
       "<tbody>\n",
       "<tr>\n",
       "<td>2020-01-11 00:00:00</td>\n",
       "<td>1.3051</td>\n",
       "<td style='text-align: right'>25</td>\n",
       "</tr>\n",
       "<tr>\n",
       "<td>2020-01-30 00:00:00</td>\n",
       "<td>1.3217</td>\n",
       "<td style='text-align: right'>7</td>\n",
       "</tr>\n",
       "<tr>\n",
       "<td>2020-02-11 00:00:00</td>\n",
       "<td>1.3292</td>\n",
       "<td style='text-align: right'>25</td>\n",
       "</tr>\n",
       "<tr>\n",
       "<td>2020-02-28 00:00:00</td>\n",
       "<td>1.3429</td>\n",
       "<td style='text-align: right'>7</td>\n",
       "</tr>\n",
       "<tr>\n",
       "<td>2020-03-11 00:00:00</td>\n",
       "<td>1.3745</td>\n",
       "<td style='text-align: right'>25</td>\n",
       "</tr>\n",
       "</tbody>\n",
       "</table>\n"
      ],
      "text/plain": [
       "+--------------------------------------+-------------------+-----+\n",
       "| date                                 | rate              | USD |\n",
       "+======================================+===================+=====+\n",
       "| datetime.datetime(2020, 1, 11, 0, 0) | Decimal('1.3051') |  25 |\n",
       "+--------------------------------------+-------------------+-----+\n",
       "| datetime.datetime(2020, 1, 30, 0, 0) | Decimal('1.3217') |   7 |\n",
       "+--------------------------------------+-------------------+-----+\n",
       "| datetime.datetime(2020, 2, 11, 0, 0) | Decimal('1.3292') |  25 |\n",
       "+--------------------------------------+-------------------+-----+\n",
       "| datetime.datetime(2020, 2, 28, 0, 0) | Decimal('1.3429') |   7 |\n",
       "+--------------------------------------+-------------------+-----+\n",
       "| datetime.datetime(2020, 3, 11, 0, 0) | Decimal('1.3745') |  25 |\n",
       "+--------------------------------------+-------------------+-----+"
      ]
     },
     "execution_count": 19,
     "metadata": {},
     "output_type": "execute_result"
    }
   ],
   "source": [
    "expenses_ds.head()"
   ]
  },
  {
   "cell_type": "code",
   "execution_count": 20,
   "metadata": {},
   "outputs": [],
   "source": [
    "# add CDN column\n",
    "expenses_ds = petl.addfield(expenses_ds,'CAD', lambda rec: decimal.Decimal(rec.USD) * rec.rate)"
   ]
  },
  {
   "cell_type": "code",
   "execution_count": 21,
   "metadata": {},
   "outputs": [
    {
     "data": {
      "text/html": [
       "<table class='petl'>\n",
       "<thead>\n",
       "<tr>\n",
       "<th>date</th>\n",
       "<th>rate</th>\n",
       "<th>USD</th>\n",
       "<th>CAD</th>\n",
       "</tr>\n",
       "</thead>\n",
       "<tbody>\n",
       "<tr>\n",
       "<td>2020-01-11 00:00:00</td>\n",
       "<td>1.3051</td>\n",
       "<td style='text-align: right'>25</td>\n",
       "<td>32.6275</td>\n",
       "</tr>\n",
       "<tr>\n",
       "<td>2020-01-30 00:00:00</td>\n",
       "<td>1.3217</td>\n",
       "<td style='text-align: right'>7</td>\n",
       "<td>9.2519</td>\n",
       "</tr>\n",
       "<tr>\n",
       "<td>2020-02-11 00:00:00</td>\n",
       "<td>1.3292</td>\n",
       "<td style='text-align: right'>25</td>\n",
       "<td>33.2300</td>\n",
       "</tr>\n",
       "<tr>\n",
       "<td>2020-02-28 00:00:00</td>\n",
       "<td>1.3429</td>\n",
       "<td style='text-align: right'>7</td>\n",
       "<td>9.4003</td>\n",
       "</tr>\n",
       "<tr>\n",
       "<td>2020-03-11 00:00:00</td>\n",
       "<td>1.3745</td>\n",
       "<td style='text-align: right'>25</td>\n",
       "<td>34.3625</td>\n",
       "</tr>\n",
       "</tbody>\n",
       "</table>\n"
      ],
      "text/plain": [
       "+--------------------------------------+-------------------+-----+--------------------+\n",
       "| date                                 | rate              | USD | CAD                |\n",
       "+======================================+===================+=====+====================+\n",
       "| datetime.datetime(2020, 1, 11, 0, 0) | Decimal('1.3051') |  25 | Decimal('32.6275') |\n",
       "+--------------------------------------+-------------------+-----+--------------------+\n",
       "| datetime.datetime(2020, 1, 30, 0, 0) | Decimal('1.3217') |   7 | Decimal('9.2519')  |\n",
       "+--------------------------------------+-------------------+-----+--------------------+\n",
       "| datetime.datetime(2020, 2, 11, 0, 0) | Decimal('1.3292') |  25 | Decimal('33.2300') |\n",
       "+--------------------------------------+-------------------+-----+--------------------+\n",
       "| datetime.datetime(2020, 2, 28, 0, 0) | Decimal('1.3429') |   7 | Decimal('9.4003')  |\n",
       "+--------------------------------------+-------------------+-----+--------------------+\n",
       "| datetime.datetime(2020, 3, 11, 0, 0) | Decimal('1.3745') |  25 | Decimal('34.3625') |\n",
       "+--------------------------------------+-------------------+-----+--------------------+"
      ]
     },
     "execution_count": 21,
     "metadata": {},
     "output_type": "execute_result"
    }
   ],
   "source": [
    "expenses_ds.head()"
   ]
  },
  {
   "cell_type": "code",
   "execution_count": 22,
   "metadata": {},
   "outputs": [],
   "source": [
    "# intialize database connection\n",
    "try:\n",
    "    dbConnection = pymysql.connect(host='localhost', user='root', password='12345678', db='etldemo')\n",
    "except Exception as e:\n",
    "    print('could not connect to database:' + str(e))\n",
    "    sys.exit()"
   ]
  },
  {
   "cell_type": "code",
   "execution_count": 23,
   "metadata": {},
   "outputs": [
    {
     "data": {
      "text/plain": [
       "0"
      ]
     },
     "execution_count": 23,
     "metadata": {},
     "output_type": "execute_result"
    }
   ],
   "source": [
    "cur = dbConnection.cursor()\n",
    "cur.execute('SET SQL_MODE=ANSI_QUOTES')"
   ]
  },
  {
   "cell_type": "code",
   "execution_count": 24,
   "metadata": {},
   "outputs": [
    {
     "name": "stdout",
     "output_type": "stream",
     "text": [
      "+---------------------+--------+-----+---------+\n",
      "| date                | rate   | USD | CAD     |\n",
      "+=====================+========+=====+=========+\n",
      "| 2020-01-11 00:00:00 | 1.3051 |  25 | 32.6275 |\n",
      "+---------------------+--------+-----+---------+\n",
      "| 2020-01-30 00:00:00 | 1.3217 |   7 | 9.2519  |\n",
      "+---------------------+--------+-----+---------+\n",
      "| 2020-02-11 00:00:00 | 1.3292 |  25 | 33.2300 |\n",
      "+---------------------+--------+-----+---------+\n",
      "| 2020-02-28 00:00:00 | 1.3429 |   7 | 9.4003  |\n",
      "+---------------------+--------+-----+---------+\n",
      "| 2020-03-11 00:00:00 | 1.3745 |  25 | 34.3625 |\n",
      "+---------------------+--------+-----+---------+\n",
      "...\n",
      "\n"
     ]
    }
   ],
   "source": [
    "# populate Expenses database table\n",
    "try:\n",
    "    petl.io.todb (expenses_ds,dbConnection,'expenses')\n",
    "except Exception as e:\n",
    "    print('could not write to database:' + str(e))\n",
    "print (expenses_ds)"
   ]
  },
  {
   "cell_type": "markdown",
   "metadata": {},
   "source": [
    "P.S. This notebook has been created with few changes while following Hackforge tech talk with Doug Sartori demonstrating ETL with Python and PETL. Here's the [link](https://youtu.be/InLgSUw_ZOE) to the video."
   ]
  }
 ],
 "metadata": {
  "interpreter": {
   "hash": "e807bbbfe034e29369b5fb8d866fb9ff1485a7173d9a5913098014b887565c41"
  },
  "kernelspec": {
   "display_name": "Python 3 (ipykernel)",
   "language": "python",
   "name": "python3"
  },
  "language_info": {
   "codemirror_mode": {
    "name": "ipython",
    "version": 3
   },
   "file_extension": ".py",
   "mimetype": "text/x-python",
   "name": "python",
   "nbconvert_exporter": "python",
   "pygments_lexer": "ipython3",
   "version": "3.9.7"
  }
 },
 "nbformat": 4,
 "nbformat_minor": 2
}
